{
 "cells": [
  {
   "cell_type": "markdown",
   "metadata": {},
   "source": [
    "# Problem Statement"
   ]
  },
  {
   "cell_type": "markdown",
   "metadata": {},
   "source": [
    "A sentiment analysis job about the problems of each major U.S. airline. Twitter data was scraped from February of 2015 and we have been asked to classify positive, negative, and neutral tweets.\n",
    "\n",
    "Dataset has following features/variables\n",
    "\n",
    "\n",
    "tweet_id\n",
    "airline_sentiment\n",
    "airline_sentiment_confidence\n",
    "negativereason\n",
    "negativereason_confidence\n",
    "airline\n",
    "airline_sentiment_gold\n",
    "name\n",
    "negativereason_gold\n",
    "retweet_count\n",
    "text\n",
    "tweet_coord\n",
    "tweet_created\n",
    "tweet_location\n",
    "user_timezone\n"
   ]
  },
  {
   "cell_type": "code",
   "execution_count": 1,
   "metadata": {
    "ExecuteTime": {
     "end_time": "2020-04-18T07:19:43.339951Z",
     "start_time": "2020-04-18T07:19:17.006279Z"
    }
   },
   "outputs": [],
   "source": [
    "import numpy as np \n",
    "import pandas as pd \n",
    "import re\n",
    "import nltk \n",
    "import matplotlib.pyplot as plt\n",
    "%matplotlib inline"
   ]
  },
  {
   "cell_type": "markdown",
   "metadata": {},
   "source": [
    "**Load the csv file available in the working or specified directory**"
   ]
  },
  {
   "cell_type": "code",
   "execution_count": 2,
   "metadata": {
    "ExecuteTime": {
     "end_time": "2020-04-18T07:19:43.407698Z",
     "start_time": "2020-04-18T07:19:43.341643Z"
    }
   },
   "outputs": [],
   "source": [
    "#import os\n",
    "#os.chdir('C:\\\\GL Class\\DSBA - Python\\Machine Learning\\Week 4')\n",
    "Airline_tweets = pd.read_csv(\"twitter-airline-sentiment (1).csv\")"
   ]
  },
  {
   "cell_type": "code",
   "execution_count": 3,
   "metadata": {
    "ExecuteTime": {
     "end_time": "2020-04-18T07:19:43.482935Z",
     "start_time": "2020-04-18T07:19:43.409459Z"
    }
   },
   "outputs": [
    {
     "data": {
      "text/html": [
       "<div>\n",
       "<style scoped>\n",
       "    .dataframe tbody tr th:only-of-type {\n",
       "        vertical-align: middle;\n",
       "    }\n",
       "\n",
       "    .dataframe tbody tr th {\n",
       "        vertical-align: top;\n",
       "    }\n",
       "\n",
       "    .dataframe thead th {\n",
       "        text-align: right;\n",
       "    }\n",
       "</style>\n",
       "<table border=\"1\" class=\"dataframe\">\n",
       "  <thead>\n",
       "    <tr style=\"text-align: right;\">\n",
       "      <th></th>\n",
       "      <th>tweet_id</th>\n",
       "      <th>airline_sentiment</th>\n",
       "      <th>airline_sentiment_confidence</th>\n",
       "      <th>negativereason</th>\n",
       "      <th>negativereason_confidence</th>\n",
       "      <th>airline</th>\n",
       "      <th>airline_sentiment_gold</th>\n",
       "      <th>name</th>\n",
       "      <th>negativereason_gold</th>\n",
       "      <th>retweet_count</th>\n",
       "      <th>text</th>\n",
       "      <th>tweet_coord</th>\n",
       "      <th>tweet_created</th>\n",
       "      <th>tweet_location</th>\n",
       "      <th>user_timezone</th>\n",
       "    </tr>\n",
       "  </thead>\n",
       "  <tbody>\n",
       "    <tr>\n",
       "      <td>0</td>\n",
       "      <td>570306133677760513</td>\n",
       "      <td>neutral</td>\n",
       "      <td>1.0000</td>\n",
       "      <td>NaN</td>\n",
       "      <td>NaN</td>\n",
       "      <td>Virgin America</td>\n",
       "      <td>NaN</td>\n",
       "      <td>cairdin</td>\n",
       "      <td>NaN</td>\n",
       "      <td>0</td>\n",
       "      <td>@VirginAmerica What @dhepburn said.</td>\n",
       "      <td>NaN</td>\n",
       "      <td>2015-02-24 11:35:52 -0800</td>\n",
       "      <td>NaN</td>\n",
       "      <td>Eastern Time (US &amp; Canada)</td>\n",
       "    </tr>\n",
       "    <tr>\n",
       "      <td>1</td>\n",
       "      <td>570301130888122368</td>\n",
       "      <td>positive</td>\n",
       "      <td>0.3486</td>\n",
       "      <td>NaN</td>\n",
       "      <td>0.0000</td>\n",
       "      <td>Virgin America</td>\n",
       "      <td>NaN</td>\n",
       "      <td>jnardino</td>\n",
       "      <td>NaN</td>\n",
       "      <td>0</td>\n",
       "      <td>@VirginAmerica plus you've added commercials t...</td>\n",
       "      <td>NaN</td>\n",
       "      <td>2015-02-24 11:15:59 -0800</td>\n",
       "      <td>NaN</td>\n",
       "      <td>Pacific Time (US &amp; Canada)</td>\n",
       "    </tr>\n",
       "    <tr>\n",
       "      <td>2</td>\n",
       "      <td>570301083672813571</td>\n",
       "      <td>neutral</td>\n",
       "      <td>0.6837</td>\n",
       "      <td>NaN</td>\n",
       "      <td>NaN</td>\n",
       "      <td>Virgin America</td>\n",
       "      <td>NaN</td>\n",
       "      <td>yvonnalynn</td>\n",
       "      <td>NaN</td>\n",
       "      <td>0</td>\n",
       "      <td>@VirginAmerica I didn't today... Must mean I n...</td>\n",
       "      <td>NaN</td>\n",
       "      <td>2015-02-24 11:15:48 -0800</td>\n",
       "      <td>Lets Play</td>\n",
       "      <td>Central Time (US &amp; Canada)</td>\n",
       "    </tr>\n",
       "    <tr>\n",
       "      <td>3</td>\n",
       "      <td>570301031407624196</td>\n",
       "      <td>negative</td>\n",
       "      <td>1.0000</td>\n",
       "      <td>Bad Flight</td>\n",
       "      <td>0.7033</td>\n",
       "      <td>Virgin America</td>\n",
       "      <td>NaN</td>\n",
       "      <td>jnardino</td>\n",
       "      <td>NaN</td>\n",
       "      <td>0</td>\n",
       "      <td>@VirginAmerica it's really aggressive to blast...</td>\n",
       "      <td>NaN</td>\n",
       "      <td>2015-02-24 11:15:36 -0800</td>\n",
       "      <td>NaN</td>\n",
       "      <td>Pacific Time (US &amp; Canada)</td>\n",
       "    </tr>\n",
       "    <tr>\n",
       "      <td>4</td>\n",
       "      <td>570300817074462722</td>\n",
       "      <td>negative</td>\n",
       "      <td>1.0000</td>\n",
       "      <td>Can't Tell</td>\n",
       "      <td>1.0000</td>\n",
       "      <td>Virgin America</td>\n",
       "      <td>NaN</td>\n",
       "      <td>jnardino</td>\n",
       "      <td>NaN</td>\n",
       "      <td>0</td>\n",
       "      <td>@VirginAmerica and it's a really big bad thing...</td>\n",
       "      <td>NaN</td>\n",
       "      <td>2015-02-24 11:14:45 -0800</td>\n",
       "      <td>NaN</td>\n",
       "      <td>Pacific Time (US &amp; Canada)</td>\n",
       "    </tr>\n",
       "  </tbody>\n",
       "</table>\n",
       "</div>"
      ],
      "text/plain": [
       "             tweet_id airline_sentiment  airline_sentiment_confidence  \\\n",
       "0  570306133677760513           neutral                        1.0000   \n",
       "1  570301130888122368          positive                        0.3486   \n",
       "2  570301083672813571           neutral                        0.6837   \n",
       "3  570301031407624196          negative                        1.0000   \n",
       "4  570300817074462722          negative                        1.0000   \n",
       "\n",
       "  negativereason  negativereason_confidence         airline  \\\n",
       "0            NaN                        NaN  Virgin America   \n",
       "1            NaN                     0.0000  Virgin America   \n",
       "2            NaN                        NaN  Virgin America   \n",
       "3     Bad Flight                     0.7033  Virgin America   \n",
       "4     Can't Tell                     1.0000  Virgin America   \n",
       "\n",
       "  airline_sentiment_gold        name negativereason_gold  retweet_count  \\\n",
       "0                    NaN     cairdin                 NaN              0   \n",
       "1                    NaN    jnardino                 NaN              0   \n",
       "2                    NaN  yvonnalynn                 NaN              0   \n",
       "3                    NaN    jnardino                 NaN              0   \n",
       "4                    NaN    jnardino                 NaN              0   \n",
       "\n",
       "                                                text tweet_coord  \\\n",
       "0                @VirginAmerica What @dhepburn said.         NaN   \n",
       "1  @VirginAmerica plus you've added commercials t...         NaN   \n",
       "2  @VirginAmerica I didn't today... Must mean I n...         NaN   \n",
       "3  @VirginAmerica it's really aggressive to blast...         NaN   \n",
       "4  @VirginAmerica and it's a really big bad thing...         NaN   \n",
       "\n",
       "               tweet_created tweet_location               user_timezone  \n",
       "0  2015-02-24 11:35:52 -0800            NaN  Eastern Time (US & Canada)  \n",
       "1  2015-02-24 11:15:59 -0800            NaN  Pacific Time (US & Canada)  \n",
       "2  2015-02-24 11:15:48 -0800      Lets Play  Central Time (US & Canada)  \n",
       "3  2015-02-24 11:15:36 -0800            NaN  Pacific Time (US & Canada)  \n",
       "4  2015-02-24 11:14:45 -0800            NaN  Pacific Time (US & Canada)  "
      ]
     },
     "execution_count": 3,
     "metadata": {},
     "output_type": "execute_result"
    }
   ],
   "source": [
    "Airline_tweets.head()"
   ]
  },
  {
   "cell_type": "code",
   "execution_count": 4,
   "metadata": {
    "ExecuteTime": {
     "end_time": "2020-04-18T07:19:43.566709Z",
     "start_time": "2020-04-18T07:19:43.483931Z"
    }
   },
   "outputs": [
    {
     "name": "stdout",
     "output_type": "stream",
     "text": [
      "<class 'pandas.core.frame.DataFrame'>\n",
      "RangeIndex: 14640 entries, 0 to 14639\n",
      "Data columns (total 15 columns):\n",
      "tweet_id                        14640 non-null int64\n",
      "airline_sentiment               14640 non-null object\n",
      "airline_sentiment_confidence    14640 non-null float64\n",
      "negativereason                  9178 non-null object\n",
      "negativereason_confidence       10522 non-null float64\n",
      "airline                         14640 non-null object\n",
      "airline_sentiment_gold          40 non-null object\n",
      "name                            14640 non-null object\n",
      "negativereason_gold             32 non-null object\n",
      "retweet_count                   14640 non-null int64\n",
      "text                            14640 non-null object\n",
      "tweet_coord                     1019 non-null object\n",
      "tweet_created                   14640 non-null object\n",
      "tweet_location                  9907 non-null object\n",
      "user_timezone                   9820 non-null object\n",
      "dtypes: float64(2), int64(2), object(11)\n",
      "memory usage: 1.7+ MB\n"
     ]
    }
   ],
   "source": [
    "Airline_tweets.info()"
   ]
  },
  {
   "cell_type": "code",
   "execution_count": 5,
   "metadata": {
    "ExecuteTime": {
     "end_time": "2020-04-18T07:19:43.657854Z",
     "start_time": "2020-04-18T07:19:43.568705Z"
    }
   },
   "outputs": [
    {
     "name": "stdout",
     "output_type": "stream",
     "text": [
      "6\n",
      "Virgin America     504\n",
      "Delta             2222\n",
      "Southwest         2420\n",
      "American          2759\n",
      "US Airways        2913\n",
      "United            3822\n",
      "Name: airline, dtype: int64\n"
     ]
    }
   ],
   "source": [
    "## Let's get the count of Airline\n",
    "print(Airline_tweets['airline'].nunique())\n",
    "print(Airline_tweets['airline'].value_counts().sort_values())"
   ]
  },
  {
   "cell_type": "markdown",
   "metadata": {
    "ExecuteTime": {
     "end_time": "2020-04-18T06:33:38.298212Z",
     "start_time": "2020-04-18T06:33:38.294223Z"
    }
   },
   "source": [
    "**So we have data set of 6 airlines**"
   ]
  },
  {
   "cell_type": "code",
   "execution_count": 6,
   "metadata": {
    "ExecuteTime": {
     "end_time": "2020-04-18T07:19:43.795932Z",
     "start_time": "2020-04-18T07:19:43.658871Z"
    }
   },
   "outputs": [
    {
     "data": {
      "text/plain": [
       "(14640, 15)"
      ]
     },
     "execution_count": 6,
     "metadata": {},
     "output_type": "execute_result"
    }
   ],
   "source": [
    "Airline_tweets.shape ## 14640 rows and 15 variables"
   ]
  },
  {
   "cell_type": "markdown",
   "metadata": {},
   "source": [
    "**Check for null values**"
   ]
  },
  {
   "cell_type": "code",
   "execution_count": 7,
   "metadata": {
    "ExecuteTime": {
     "end_time": "2020-04-18T07:19:43.944867Z",
     "start_time": "2020-04-18T07:19:43.796930Z"
    }
   },
   "outputs": [
    {
     "data": {
      "text/plain": [
       "tweet_id                         0.00\n",
       "airline_sentiment                0.00\n",
       "airline_sentiment_confidence     0.00\n",
       "negativereason                  37.31\n",
       "negativereason_confidence       28.13\n",
       "airline                          0.00\n",
       "airline_sentiment_gold          99.73\n",
       "name                             0.00\n",
       "negativereason_gold             99.78\n",
       "retweet_count                    0.00\n",
       "text                             0.00\n",
       "tweet_coord                     93.04\n",
       "tweet_created                    0.00\n",
       "tweet_location                  32.33\n",
       "user_timezone                   32.92\n",
       "dtype: float64"
      ]
     },
     "execution_count": 7,
     "metadata": {},
     "output_type": "execute_result"
    }
   ],
   "source": [
    "((Airline_tweets.isnull() | Airline_tweets.isna()).sum() * 100 / Airline_tweets.index.size).round(2)"
   ]
  },
  {
   "cell_type": "markdown",
   "metadata": {},
   "source": [
    "**Columns with more than 90% missing values will be deleted**"
   ]
  },
  {
   "cell_type": "code",
   "execution_count": 8,
   "metadata": {
    "ExecuteTime": {
     "end_time": "2020-04-18T07:19:44.050586Z",
     "start_time": "2020-04-18T07:19:43.948857Z"
    }
   },
   "outputs": [
    {
     "data": {
      "text/html": [
       "<div>\n",
       "<style scoped>\n",
       "    .dataframe tbody tr th:only-of-type {\n",
       "        vertical-align: middle;\n",
       "    }\n",
       "\n",
       "    .dataframe tbody tr th {\n",
       "        vertical-align: top;\n",
       "    }\n",
       "\n",
       "    .dataframe thead th {\n",
       "        text-align: right;\n",
       "    }\n",
       "</style>\n",
       "<table border=\"1\" class=\"dataframe\">\n",
       "  <thead>\n",
       "    <tr style=\"text-align: right;\">\n",
       "      <th></th>\n",
       "      <th>tweet_id</th>\n",
       "      <th>airline_sentiment</th>\n",
       "      <th>airline_sentiment_confidence</th>\n",
       "      <th>negativereason</th>\n",
       "      <th>negativereason_confidence</th>\n",
       "      <th>airline</th>\n",
       "      <th>name</th>\n",
       "      <th>retweet_count</th>\n",
       "      <th>text</th>\n",
       "      <th>tweet_created</th>\n",
       "      <th>tweet_location</th>\n",
       "      <th>user_timezone</th>\n",
       "    </tr>\n",
       "  </thead>\n",
       "  <tbody>\n",
       "    <tr>\n",
       "      <td>0</td>\n",
       "      <td>570306133677760513</td>\n",
       "      <td>neutral</td>\n",
       "      <td>1.0000</td>\n",
       "      <td>NaN</td>\n",
       "      <td>NaN</td>\n",
       "      <td>Virgin America</td>\n",
       "      <td>cairdin</td>\n",
       "      <td>0</td>\n",
       "      <td>@VirginAmerica What @dhepburn said.</td>\n",
       "      <td>2015-02-24 11:35:52 -0800</td>\n",
       "      <td>NaN</td>\n",
       "      <td>Eastern Time (US &amp; Canada)</td>\n",
       "    </tr>\n",
       "    <tr>\n",
       "      <td>1</td>\n",
       "      <td>570301130888122368</td>\n",
       "      <td>positive</td>\n",
       "      <td>0.3486</td>\n",
       "      <td>NaN</td>\n",
       "      <td>0.0000</td>\n",
       "      <td>Virgin America</td>\n",
       "      <td>jnardino</td>\n",
       "      <td>0</td>\n",
       "      <td>@VirginAmerica plus you've added commercials t...</td>\n",
       "      <td>2015-02-24 11:15:59 -0800</td>\n",
       "      <td>NaN</td>\n",
       "      <td>Pacific Time (US &amp; Canada)</td>\n",
       "    </tr>\n",
       "    <tr>\n",
       "      <td>2</td>\n",
       "      <td>570301083672813571</td>\n",
       "      <td>neutral</td>\n",
       "      <td>0.6837</td>\n",
       "      <td>NaN</td>\n",
       "      <td>NaN</td>\n",
       "      <td>Virgin America</td>\n",
       "      <td>yvonnalynn</td>\n",
       "      <td>0</td>\n",
       "      <td>@VirginAmerica I didn't today... Must mean I n...</td>\n",
       "      <td>2015-02-24 11:15:48 -0800</td>\n",
       "      <td>Lets Play</td>\n",
       "      <td>Central Time (US &amp; Canada)</td>\n",
       "    </tr>\n",
       "    <tr>\n",
       "      <td>3</td>\n",
       "      <td>570301031407624196</td>\n",
       "      <td>negative</td>\n",
       "      <td>1.0000</td>\n",
       "      <td>Bad Flight</td>\n",
       "      <td>0.7033</td>\n",
       "      <td>Virgin America</td>\n",
       "      <td>jnardino</td>\n",
       "      <td>0</td>\n",
       "      <td>@VirginAmerica it's really aggressive to blast...</td>\n",
       "      <td>2015-02-24 11:15:36 -0800</td>\n",
       "      <td>NaN</td>\n",
       "      <td>Pacific Time (US &amp; Canada)</td>\n",
       "    </tr>\n",
       "    <tr>\n",
       "      <td>4</td>\n",
       "      <td>570300817074462722</td>\n",
       "      <td>negative</td>\n",
       "      <td>1.0000</td>\n",
       "      <td>Can't Tell</td>\n",
       "      <td>1.0000</td>\n",
       "      <td>Virgin America</td>\n",
       "      <td>jnardino</td>\n",
       "      <td>0</td>\n",
       "      <td>@VirginAmerica and it's a really big bad thing...</td>\n",
       "      <td>2015-02-24 11:14:45 -0800</td>\n",
       "      <td>NaN</td>\n",
       "      <td>Pacific Time (US &amp; Canada)</td>\n",
       "    </tr>\n",
       "  </tbody>\n",
       "</table>\n",
       "</div>"
      ],
      "text/plain": [
       "             tweet_id airline_sentiment  airline_sentiment_confidence  \\\n",
       "0  570306133677760513           neutral                        1.0000   \n",
       "1  570301130888122368          positive                        0.3486   \n",
       "2  570301083672813571           neutral                        0.6837   \n",
       "3  570301031407624196          negative                        1.0000   \n",
       "4  570300817074462722          negative                        1.0000   \n",
       "\n",
       "  negativereason  negativereason_confidence         airline        name  \\\n",
       "0            NaN                        NaN  Virgin America     cairdin   \n",
       "1            NaN                     0.0000  Virgin America    jnardino   \n",
       "2            NaN                        NaN  Virgin America  yvonnalynn   \n",
       "3     Bad Flight                     0.7033  Virgin America    jnardino   \n",
       "4     Can't Tell                     1.0000  Virgin America    jnardino   \n",
       "\n",
       "   retweet_count                                               text  \\\n",
       "0              0                @VirginAmerica What @dhepburn said.   \n",
       "1              0  @VirginAmerica plus you've added commercials t...   \n",
       "2              0  @VirginAmerica I didn't today... Must mean I n...   \n",
       "3              0  @VirginAmerica it's really aggressive to blast...   \n",
       "4              0  @VirginAmerica and it's a really big bad thing...   \n",
       "\n",
       "               tweet_created tweet_location               user_timezone  \n",
       "0  2015-02-24 11:35:52 -0800            NaN  Eastern Time (US & Canada)  \n",
       "1  2015-02-24 11:15:59 -0800            NaN  Pacific Time (US & Canada)  \n",
       "2  2015-02-24 11:15:48 -0800      Lets Play  Central Time (US & Canada)  \n",
       "3  2015-02-24 11:15:36 -0800            NaN  Pacific Time (US & Canada)  \n",
       "4  2015-02-24 11:14:45 -0800            NaN  Pacific Time (US & Canada)  "
      ]
     },
     "execution_count": 8,
     "metadata": {},
     "output_type": "execute_result"
    }
   ],
   "source": [
    "Airline_tweets.drop(['tweet_coord'], axis = 1,inplace=True)\n",
    "Airline_tweets.drop(['airline_sentiment_gold'], axis = 1,inplace=True)\n",
    "Airline_tweets.drop(['negativereason_gold'], axis = 1,inplace=True)\n",
    "Airline_tweets.head()"
   ]
  },
  {
   "cell_type": "markdown",
   "metadata": {},
   "source": [
    "**As the data set has data for 6 airlines, let's get a count of positive, negative and neutral for each airline**"
   ]
  },
  {
   "cell_type": "code",
   "execution_count": 9,
   "metadata": {
    "ExecuteTime": {
     "end_time": "2020-04-18T07:19:44.778357Z",
     "start_time": "2020-04-18T07:19:44.052580Z"
    }
   },
   "outputs": [
    {
     "data": {
      "image/png": "[encoded data removed]",
      "text/plain": [
       "<Figure size 1008x864 with 6 Axes>"
      ]
     },
     "metadata": {
      "needs_background": "light"
     },
     "output_type": "display_data"
    }
   ],
   "source": [
    "airlines= ['US Airways','United','American','Southwest','Delta','Virgin America']\n",
    "plt.figure(1,figsize=(14, 12))\n",
    "for i in airlines:\n",
    "    indices= airlines.index(i)\n",
    "    plt.subplot(2,3,indices+1)\n",
    "    new_df=Airline_tweets[Airline_tweets['airline']==i]\n",
    "    count=new_df['airline_sentiment'].value_counts()\n",
    "    Index = [1,2,3]\n",
    "    plt.bar(Index,count, color=['red', 'green', 'blue'])\n",
    "    plt.xticks(Index,['negative','neutral','positive'])\n",
    "    plt.ylabel('Sentiments Count')\n",
    "    plt.xlabel('Sentiments')\n",
    "    plt.title('Count of Sentiments of '+i)\n"
   ]
  },
  {
   "cell_type": "markdown",
   "metadata": {},
   "source": [
    "1. **US Airways have a least positive sentiment followed by American and United.**\n",
    "2. **Virgin America has most balanced sentiments**\n"
   ]
  },
  {
   "cell_type": "markdown",
   "metadata": {},
   "source": [
    "## Basic Exploration in Text Mining"
   ]
  },
  {
   "cell_type": "markdown",
   "metadata": {},
   "source": [
    "**Number of words## To create a temporary function lambda can be used. These functions do not require a name like a def function, however the output is**\n",
    "1. **same as defining a permanent function**\n",
    "2. **As these function are temporary, memory consumption is less in comparison to permanent function, Also there are multiple ways to get a similar output**"
   ]
  },
  {
   "cell_type": "markdown",
   "metadata": {},
   "source": [
    "**Let's get a word count without writing a lambda function**"
   ]
  },
  {
   "cell_type": "code",
   "execution_count": 10,
   "metadata": {
    "ExecuteTime": {
     "end_time": "2020-04-18T07:19:44.809274Z",
     "start_time": "2020-04-18T07:19:44.780318Z"
    }
   },
   "outputs": [
    {
     "data": {
      "text/html": [
       "<div>\n",
       "<style scoped>\n",
       "    .dataframe tbody tr th:only-of-type {\n",
       "        vertical-align: middle;\n",
       "    }\n",
       "\n",
       "    .dataframe tbody tr th {\n",
       "        vertical-align: top;\n",
       "    }\n",
       "\n",
       "    .dataframe thead th {\n",
       "        text-align: right;\n",
       "    }\n",
       "</style>\n",
       "<table border=\"1\" class=\"dataframe\">\n",
       "  <thead>\n",
       "    <tr style=\"text-align: right;\">\n",
       "      <th></th>\n",
       "      <th>text</th>\n",
       "      <th>totalwords</th>\n",
       "    </tr>\n",
       "  </thead>\n",
       "  <tbody>\n",
       "    <tr>\n",
       "      <td>0</td>\n",
       "      <td>@VirginAmerica What @dhepburn said.</td>\n",
       "      <td>4</td>\n",
       "    </tr>\n",
       "    <tr>\n",
       "      <td>1</td>\n",
       "      <td>@VirginAmerica plus you've added commercials t...</td>\n",
       "      <td>9</td>\n",
       "    </tr>\n",
       "    <tr>\n",
       "      <td>2</td>\n",
       "      <td>@VirginAmerica I didn't today... Must mean I n...</td>\n",
       "      <td>12</td>\n",
       "    </tr>\n",
       "    <tr>\n",
       "      <td>3</td>\n",
       "      <td>@VirginAmerica it's really aggressive to blast...</td>\n",
       "      <td>17</td>\n",
       "    </tr>\n",
       "    <tr>\n",
       "      <td>4</td>\n",
       "      <td>@VirginAmerica and it's a really big bad thing...</td>\n",
       "      <td>10</td>\n",
       "    </tr>\n",
       "  </tbody>\n",
       "</table>\n",
       "</div>"
      ],
      "text/plain": [
       "                                                text  totalwords\n",
       "0                @VirginAmerica What @dhepburn said.           4\n",
       "1  @VirginAmerica plus you've added commercials t...           9\n",
       "2  @VirginAmerica I didn't today... Must mean I n...          12\n",
       "3  @VirginAmerica it's really aggressive to blast...          17\n",
       "4  @VirginAmerica and it's a really big bad thing...          10"
      ]
     },
     "execution_count": 10,
     "metadata": {},
     "output_type": "execute_result"
    }
   ],
   "source": [
    "Airline_tweets['totalwords'] = [len(x.split()) for x in Airline_tweets['text'].tolist()]\n",
    "Airline_tweets[['text','totalwords']].head()"
   ]
  },
  {
   "cell_type": "code",
   "execution_count": 11,
   "metadata": {
    "ExecuteTime": {
     "end_time": "2020-04-18T07:19:44.914450Z",
     "start_time": "2020-04-18T07:19:44.810237Z"
    }
   },
   "outputs": [
    {
     "data": {
      "text/html": [
       "<div>\n",
       "<style scoped>\n",
       "    .dataframe tbody tr th:only-of-type {\n",
       "        vertical-align: middle;\n",
       "    }\n",
       "\n",
       "    .dataframe tbody tr th {\n",
       "        vertical-align: top;\n",
       "    }\n",
       "\n",
       "    .dataframe thead th {\n",
       "        text-align: right;\n",
       "    }\n",
       "</style>\n",
       "<table border=\"1\" class=\"dataframe\">\n",
       "  <thead>\n",
       "    <tr style=\"text-align: right;\">\n",
       "      <th></th>\n",
       "      <th>text</th>\n",
       "      <th>word_count</th>\n",
       "    </tr>\n",
       "  </thead>\n",
       "  <tbody>\n",
       "    <tr>\n",
       "      <td>0</td>\n",
       "      <td>@VirginAmerica What @dhepburn said.</td>\n",
       "      <td>4</td>\n",
       "    </tr>\n",
       "    <tr>\n",
       "      <td>1</td>\n",
       "      <td>@VirginAmerica plus you've added commercials t...</td>\n",
       "      <td>9</td>\n",
       "    </tr>\n",
       "    <tr>\n",
       "      <td>2</td>\n",
       "      <td>@VirginAmerica I didn't today... Must mean I n...</td>\n",
       "      <td>12</td>\n",
       "    </tr>\n",
       "    <tr>\n",
       "      <td>3</td>\n",
       "      <td>@VirginAmerica it's really aggressive to blast...</td>\n",
       "      <td>17</td>\n",
       "    </tr>\n",
       "    <tr>\n",
       "      <td>4</td>\n",
       "      <td>@VirginAmerica and it's a really big bad thing...</td>\n",
       "      <td>10</td>\n",
       "    </tr>\n",
       "  </tbody>\n",
       "</table>\n",
       "</div>"
      ],
      "text/plain": [
       "                                                text  word_count\n",
       "0                @VirginAmerica What @dhepburn said.           4\n",
       "1  @VirginAmerica plus you've added commercials t...           9\n",
       "2  @VirginAmerica I didn't today... Must mean I n...          12\n",
       "3  @VirginAmerica it's really aggressive to blast...          17\n",
       "4  @VirginAmerica and it's a really big bad thing...          10"
      ]
     },
     "execution_count": 11,
     "metadata": {},
     "output_type": "execute_result"
    }
   ],
   "source": [
    "Airline_tweets['word_count'] = Airline_tweets['text'].apply(lambda x: len(str(x).split(\" \")))\n",
    "Airline_tweets[['text','word_count']].head()"
   ]
  },
  {
   "cell_type": "markdown",
   "metadata": {},
   "source": [
    "**Number of Characters- including spaces**"
   ]
  },
  {
   "cell_type": "code",
   "execution_count": 12,
   "metadata": {
    "ExecuteTime": {
     "end_time": "2020-04-18T07:19:45.008201Z",
     "start_time": "2020-04-18T07:19:44.915415Z"
    }
   },
   "outputs": [
    {
     "data": {
      "text/html": [
       "<div>\n",
       "<style scoped>\n",
       "    .dataframe tbody tr th:only-of-type {\n",
       "        vertical-align: middle;\n",
       "    }\n",
       "\n",
       "    .dataframe tbody tr th {\n",
       "        vertical-align: top;\n",
       "    }\n",
       "\n",
       "    .dataframe thead th {\n",
       "        text-align: right;\n",
       "    }\n",
       "</style>\n",
       "<table border=\"1\" class=\"dataframe\">\n",
       "  <thead>\n",
       "    <tr style=\"text-align: right;\">\n",
       "      <th></th>\n",
       "      <th>text</th>\n",
       "      <th>char_count</th>\n",
       "    </tr>\n",
       "  </thead>\n",
       "  <tbody>\n",
       "    <tr>\n",
       "      <td>0</td>\n",
       "      <td>@VirginAmerica What @dhepburn said.</td>\n",
       "      <td>35</td>\n",
       "    </tr>\n",
       "    <tr>\n",
       "      <td>1</td>\n",
       "      <td>@VirginAmerica plus you've added commercials t...</td>\n",
       "      <td>72</td>\n",
       "    </tr>\n",
       "    <tr>\n",
       "      <td>2</td>\n",
       "      <td>@VirginAmerica I didn't today... Must mean I n...</td>\n",
       "      <td>71</td>\n",
       "    </tr>\n",
       "    <tr>\n",
       "      <td>3</td>\n",
       "      <td>@VirginAmerica it's really aggressive to blast...</td>\n",
       "      <td>126</td>\n",
       "    </tr>\n",
       "    <tr>\n",
       "      <td>4</td>\n",
       "      <td>@VirginAmerica and it's a really big bad thing...</td>\n",
       "      <td>55</td>\n",
       "    </tr>\n",
       "  </tbody>\n",
       "</table>\n",
       "</div>"
      ],
      "text/plain": [
       "                                                text  char_count\n",
       "0                @VirginAmerica What @dhepburn said.          35\n",
       "1  @VirginAmerica plus you've added commercials t...          72\n",
       "2  @VirginAmerica I didn't today... Must mean I n...          71\n",
       "3  @VirginAmerica it's really aggressive to blast...         126\n",
       "4  @VirginAmerica and it's a really big bad thing...          55"
      ]
     },
     "execution_count": 12,
     "metadata": {},
     "output_type": "execute_result"
    }
   ],
   "source": [
    "Airline_tweets['char_count'] = Airline_tweets['text'].str.len() ## this also includes spaces\n",
    "Airline_tweets[['text','char_count']].head()"
   ]
  },
  {
   "cell_type": "markdown",
   "metadata": {},
   "source": [
    "**Average Word Length:**"
   ]
  },
  {
   "cell_type": "code",
   "execution_count": 13,
   "metadata": {
    "ExecuteTime": {
     "end_time": "2020-04-18T07:19:45.239581Z",
     "start_time": "2020-04-18T07:19:45.009165Z"
    }
   },
   "outputs": [
    {
     "data": {
      "text/html": [
       "<div>\n",
       "<style scoped>\n",
       "    .dataframe tbody tr th:only-of-type {\n",
       "        vertical-align: middle;\n",
       "    }\n",
       "\n",
       "    .dataframe tbody tr th {\n",
       "        vertical-align: top;\n",
       "    }\n",
       "\n",
       "    .dataframe thead th {\n",
       "        text-align: right;\n",
       "    }\n",
       "</style>\n",
       "<table border=\"1\" class=\"dataframe\">\n",
       "  <thead>\n",
       "    <tr style=\"text-align: right;\">\n",
       "      <th></th>\n",
       "      <th>text</th>\n",
       "      <th>avg_word</th>\n",
       "    </tr>\n",
       "  </thead>\n",
       "  <tbody>\n",
       "    <tr>\n",
       "      <td>0</td>\n",
       "      <td>@VirginAmerica What @dhepburn said.</td>\n",
       "      <td>8.000000</td>\n",
       "    </tr>\n",
       "    <tr>\n",
       "      <td>1</td>\n",
       "      <td>@VirginAmerica plus you've added commercials t...</td>\n",
       "      <td>7.111111</td>\n",
       "    </tr>\n",
       "    <tr>\n",
       "      <td>2</td>\n",
       "      <td>@VirginAmerica I didn't today... Must mean I n...</td>\n",
       "      <td>5.000000</td>\n",
       "    </tr>\n",
       "    <tr>\n",
       "      <td>3</td>\n",
       "      <td>@VirginAmerica it's really aggressive to blast...</td>\n",
       "      <td>6.470588</td>\n",
       "    </tr>\n",
       "    <tr>\n",
       "      <td>4</td>\n",
       "      <td>@VirginAmerica and it's a really big bad thing...</td>\n",
       "      <td>4.600000</td>\n",
       "    </tr>\n",
       "  </tbody>\n",
       "</table>\n",
       "</div>"
      ],
      "text/plain": [
       "                                                text  avg_word\n",
       "0                @VirginAmerica What @dhepburn said.  8.000000\n",
       "1  @VirginAmerica plus you've added commercials t...  7.111111\n",
       "2  @VirginAmerica I didn't today... Must mean I n...  5.000000\n",
       "3  @VirginAmerica it's really aggressive to blast...  6.470588\n",
       "4  @VirginAmerica and it's a really big bad thing...  4.600000"
      ]
     },
     "execution_count": 13,
     "metadata": {},
     "output_type": "execute_result"
    }
   ],
   "source": [
    "def avg_word(sentence):\n",
    "    words = sentence.split()\n",
    "    return (sum(len(word) for word in words)/len(words))\n",
    "\n",
    "Airline_tweets['avg_word'] = Airline_tweets['text'].apply(lambda x: avg_word(x))\n",
    "Airline_tweets[['text','avg_word']].head()"
   ]
  },
  {
   "cell_type": "code",
   "execution_count": 14,
   "metadata": {
    "ExecuteTime": {
     "end_time": "2020-04-18T07:19:45.285423Z",
     "start_time": "2020-04-18T07:19:45.240543Z"
    }
   },
   "outputs": [],
   "source": [
    "###!pip install nltk"
   ]
  },
  {
   "cell_type": "code",
   "execution_count": 15,
   "metadata": {
    "ExecuteTime": {
     "end_time": "2020-04-18T07:19:45.382139Z",
     "start_time": "2020-04-18T07:19:45.286423Z"
    }
   },
   "outputs": [],
   "source": [
    "### import nltk\n",
    "###nltk.download('stopwords')"
   ]
  },
  {
   "cell_type": "markdown",
   "metadata": {},
   "source": [
    "**Number of stop Words:**"
   ]
  },
  {
   "cell_type": "code",
   "execution_count": 16,
   "metadata": {
    "ExecuteTime": {
     "end_time": "2020-04-18T07:19:45.895227Z",
     "start_time": "2020-04-18T07:19:45.384134Z"
    }
   },
   "outputs": [
    {
     "data": {
      "text/html": [
       "<div>\n",
       "<style scoped>\n",
       "    .dataframe tbody tr th:only-of-type {\n",
       "        vertical-align: middle;\n",
       "    }\n",
       "\n",
       "    .dataframe tbody tr th {\n",
       "        vertical-align: top;\n",
       "    }\n",
       "\n",
       "    .dataframe thead th {\n",
       "        text-align: right;\n",
       "    }\n",
       "</style>\n",
       "<table border=\"1\" class=\"dataframe\">\n",
       "  <thead>\n",
       "    <tr style=\"text-align: right;\">\n",
       "      <th></th>\n",
       "      <th>text</th>\n",
       "      <th>stopwords</th>\n",
       "    </tr>\n",
       "  </thead>\n",
       "  <tbody>\n",
       "    <tr>\n",
       "      <td>0</td>\n",
       "      <td>@VirginAmerica What @dhepburn said.</td>\n",
       "      <td>0</td>\n",
       "    </tr>\n",
       "    <tr>\n",
       "      <td>1</td>\n",
       "      <td>@VirginAmerica plus you've added commercials t...</td>\n",
       "      <td>3</td>\n",
       "    </tr>\n",
       "    <tr>\n",
       "      <td>2</td>\n",
       "      <td>@VirginAmerica I didn't today... Must mean I n...</td>\n",
       "      <td>2</td>\n",
       "    </tr>\n",
       "    <tr>\n",
       "      <td>3</td>\n",
       "      <td>@VirginAmerica it's really aggressive to blast...</td>\n",
       "      <td>6</td>\n",
       "    </tr>\n",
       "    <tr>\n",
       "      <td>4</td>\n",
       "      <td>@VirginAmerica and it's a really big bad thing...</td>\n",
       "      <td>5</td>\n",
       "    </tr>\n",
       "  </tbody>\n",
       "</table>\n",
       "</div>"
      ],
      "text/plain": [
       "                                                text  stopwords\n",
       "0                @VirginAmerica What @dhepburn said.          0\n",
       "1  @VirginAmerica plus you've added commercials t...          3\n",
       "2  @VirginAmerica I didn't today... Must mean I n...          2\n",
       "3  @VirginAmerica it's really aggressive to blast...          6\n",
       "4  @VirginAmerica and it's a really big bad thing...          5"
      ]
     },
     "execution_count": 16,
     "metadata": {},
     "output_type": "execute_result"
    }
   ],
   "source": [
    "from nltk.corpus import stopwords\n",
    "stop = stopwords.words('english')\n",
    "\n",
    "Airline_tweets['stopwords'] = Airline_tweets['text'].apply(lambda x: len([x for x in x.split() if x in stop]))\n",
    "Airline_tweets[['text','stopwords']].head()"
   ]
  },
  {
   "cell_type": "markdown",
   "metadata": {},
   "source": [
    "**Number of special character:**"
   ]
  },
  {
   "cell_type": "code",
   "execution_count": 17,
   "metadata": {
    "ExecuteTime": {
     "end_time": "2020-04-18T07:19:45.969061Z",
     "start_time": "2020-04-18T07:19:45.897221Z"
    }
   },
   "outputs": [
    {
     "data": {
      "text/html": [
       "<div>\n",
       "<style scoped>\n",
       "    .dataframe tbody tr th:only-of-type {\n",
       "        vertical-align: middle;\n",
       "    }\n",
       "\n",
       "    .dataframe tbody tr th {\n",
       "        vertical-align: top;\n",
       "    }\n",
       "\n",
       "    .dataframe thead th {\n",
       "        text-align: right;\n",
       "    }\n",
       "</style>\n",
       "<table border=\"1\" class=\"dataframe\">\n",
       "  <thead>\n",
       "    <tr style=\"text-align: right;\">\n",
       "      <th></th>\n",
       "      <th>text</th>\n",
       "      <th>hastags</th>\n",
       "    </tr>\n",
       "  </thead>\n",
       "  <tbody>\n",
       "    <tr>\n",
       "      <td>0</td>\n",
       "      <td>@VirginAmerica What @dhepburn said.</td>\n",
       "      <td>2</td>\n",
       "    </tr>\n",
       "    <tr>\n",
       "      <td>1</td>\n",
       "      <td>@VirginAmerica plus you've added commercials t...</td>\n",
       "      <td>1</td>\n",
       "    </tr>\n",
       "    <tr>\n",
       "      <td>2</td>\n",
       "      <td>@VirginAmerica I didn't today... Must mean I n...</td>\n",
       "      <td>1</td>\n",
       "    </tr>\n",
       "    <tr>\n",
       "      <td>3</td>\n",
       "      <td>@VirginAmerica it's really aggressive to blast...</td>\n",
       "      <td>1</td>\n",
       "    </tr>\n",
       "    <tr>\n",
       "      <td>4</td>\n",
       "      <td>@VirginAmerica and it's a really big bad thing...</td>\n",
       "      <td>1</td>\n",
       "    </tr>\n",
       "  </tbody>\n",
       "</table>\n",
       "</div>"
      ],
      "text/plain": [
       "                                                text  hastags\n",
       "0                @VirginAmerica What @dhepburn said.        2\n",
       "1  @VirginAmerica plus you've added commercials t...        1\n",
       "2  @VirginAmerica I didn't today... Must mean I n...        1\n",
       "3  @VirginAmerica it's really aggressive to blast...        1\n",
       "4  @VirginAmerica and it's a really big bad thing...        1"
      ]
     },
     "execution_count": 17,
     "metadata": {},
     "output_type": "execute_result"
    }
   ],
   "source": [
    "Airline_tweets['hastags'] = Airline_tweets['text'].apply(lambda x: len([x for x in x.split() if x.startswith('@')]))\n",
    "Airline_tweets[['text','hastags']].head()"
   ]
  },
  {
   "cell_type": "markdown",
   "metadata": {},
   "source": [
    "**Number of numerics:**"
   ]
  },
  {
   "cell_type": "code",
   "execution_count": 18,
   "metadata": {
    "ExecuteTime": {
     "end_time": "2020-04-18T07:19:46.036847Z",
     "start_time": "2020-04-18T07:19:45.970026Z"
    }
   },
   "outputs": [
    {
     "data": {
      "text/html": [
       "<div>\n",
       "<style scoped>\n",
       "    .dataframe tbody tr th:only-of-type {\n",
       "        vertical-align: middle;\n",
       "    }\n",
       "\n",
       "    .dataframe tbody tr th {\n",
       "        vertical-align: top;\n",
       "    }\n",
       "\n",
       "    .dataframe thead th {\n",
       "        text-align: right;\n",
       "    }\n",
       "</style>\n",
       "<table border=\"1\" class=\"dataframe\">\n",
       "  <thead>\n",
       "    <tr style=\"text-align: right;\">\n",
       "      <th></th>\n",
       "      <th>text</th>\n",
       "      <th>numerics</th>\n",
       "    </tr>\n",
       "  </thead>\n",
       "  <tbody>\n",
       "    <tr>\n",
       "      <td>0</td>\n",
       "      <td>@VirginAmerica What @dhepburn said.</td>\n",
       "      <td>0</td>\n",
       "    </tr>\n",
       "    <tr>\n",
       "      <td>1</td>\n",
       "      <td>@VirginAmerica plus you've added commercials t...</td>\n",
       "      <td>0</td>\n",
       "    </tr>\n",
       "    <tr>\n",
       "      <td>2</td>\n",
       "      <td>@VirginAmerica I didn't today... Must mean I n...</td>\n",
       "      <td>0</td>\n",
       "    </tr>\n",
       "    <tr>\n",
       "      <td>3</td>\n",
       "      <td>@VirginAmerica it's really aggressive to blast...</td>\n",
       "      <td>0</td>\n",
       "    </tr>\n",
       "    <tr>\n",
       "      <td>4</td>\n",
       "      <td>@VirginAmerica and it's a really big bad thing...</td>\n",
       "      <td>0</td>\n",
       "    </tr>\n",
       "  </tbody>\n",
       "</table>\n",
       "</div>"
      ],
      "text/plain": [
       "                                                text  numerics\n",
       "0                @VirginAmerica What @dhepburn said.         0\n",
       "1  @VirginAmerica plus you've added commercials t...         0\n",
       "2  @VirginAmerica I didn't today... Must mean I n...         0\n",
       "3  @VirginAmerica it's really aggressive to blast...         0\n",
       "4  @VirginAmerica and it's a really big bad thing...         0"
      ]
     },
     "execution_count": 18,
     "metadata": {},
     "output_type": "execute_result"
    }
   ],
   "source": [
    "Airline_tweets['numerics'] = Airline_tweets['text'].apply(lambda x: len([x for x in x.split() if x.isdigit()]))\n",
    "Airline_tweets[['text','numerics']].head()"
   ]
  },
  {
   "cell_type": "markdown",
   "metadata": {},
   "source": [
    "**Number of Uppercase Words:**"
   ]
  },
  {
   "cell_type": "code",
   "execution_count": 19,
   "metadata": {
    "ExecuteTime": {
     "end_time": "2020-04-18T07:19:46.190470Z",
     "start_time": "2020-04-18T07:19:46.037880Z"
    }
   },
   "outputs": [
    {
     "data": {
      "text/html": [
       "<div>\n",
       "<style scoped>\n",
       "    .dataframe tbody tr th:only-of-type {\n",
       "        vertical-align: middle;\n",
       "    }\n",
       "\n",
       "    .dataframe tbody tr th {\n",
       "        vertical-align: top;\n",
       "    }\n",
       "\n",
       "    .dataframe thead th {\n",
       "        text-align: right;\n",
       "    }\n",
       "</style>\n",
       "<table border=\"1\" class=\"dataframe\">\n",
       "  <thead>\n",
       "    <tr style=\"text-align: right;\">\n",
       "      <th></th>\n",
       "      <th>text</th>\n",
       "      <th>upper</th>\n",
       "    </tr>\n",
       "  </thead>\n",
       "  <tbody>\n",
       "    <tr>\n",
       "      <td>0</td>\n",
       "      <td>@VirginAmerica What @dhepburn said.</td>\n",
       "      <td>0</td>\n",
       "    </tr>\n",
       "    <tr>\n",
       "      <td>1</td>\n",
       "      <td>@VirginAmerica plus you've added commercials t...</td>\n",
       "      <td>0</td>\n",
       "    </tr>\n",
       "    <tr>\n",
       "      <td>2</td>\n",
       "      <td>@VirginAmerica I didn't today... Must mean I n...</td>\n",
       "      <td>2</td>\n",
       "    </tr>\n",
       "    <tr>\n",
       "      <td>3</td>\n",
       "      <td>@VirginAmerica it's really aggressive to blast...</td>\n",
       "      <td>0</td>\n",
       "    </tr>\n",
       "    <tr>\n",
       "      <td>4</td>\n",
       "      <td>@VirginAmerica and it's a really big bad thing...</td>\n",
       "      <td>0</td>\n",
       "    </tr>\n",
       "  </tbody>\n",
       "</table>\n",
       "</div>"
      ],
      "text/plain": [
       "                                                text  upper\n",
       "0                @VirginAmerica What @dhepburn said.      0\n",
       "1  @VirginAmerica plus you've added commercials t...      0\n",
       "2  @VirginAmerica I didn't today... Must mean I n...      2\n",
       "3  @VirginAmerica it's really aggressive to blast...      0\n",
       "4  @VirginAmerica and it's a really big bad thing...      0"
      ]
     },
     "execution_count": 19,
     "metadata": {},
     "output_type": "execute_result"
    }
   ],
   "source": [
    "Airline_tweets['upper'] = Airline_tweets['text'].apply(lambda x: len([x for x in x.split() if x.isupper()]))\n",
    "Airline_tweets[['text','upper']].head()"
   ]
  },
  {
   "cell_type": "code",
   "execution_count": 20,
   "metadata": {
    "ExecuteTime": {
     "end_time": "2020-04-18T07:19:46.271347Z",
     "start_time": "2020-04-18T07:19:46.191434Z"
    }
   },
   "outputs": [],
   "source": [
    "##!pip install wordcloud"
   ]
  },
  {
   "cell_type": "markdown",
   "metadata": {},
   "source": [
    "**Let's get an idea of most frequently used words in negative tweets:**"
   ]
  },
  {
   "cell_type": "code",
   "execution_count": 21,
   "metadata": {
    "ExecuteTime": {
     "end_time": "2020-04-18T07:20:08.384510Z",
     "start_time": "2020-04-18T07:19:46.272307Z"
    }
   },
   "outputs": [
    {
     "data": {
      "image/png": "[encoded data removed]",
      "text/plain": [
       "<Figure size 864x864 with 1 Axes>"
      ]
     },
     "metadata": {
      "needs_background": "light"
     },
     "output_type": "display_data"
    }
   ],
   "source": [
    "from wordcloud import WordCloud,STOPWORDS\n",
    "new_df=Airline_tweets[Airline_tweets['airline_sentiment']=='negative']\n",
    "words = ' '.join(new_df['text'])\n",
    "cleaned_word = \" \".join([word for word in words.split()\n",
    "                            if 'http' not in word\n",
    "                                and not word.startswith('@')\n",
    "                                and word != 'RT'\n",
    "                            ])\n",
    "wordcloud = WordCloud(stopwords=STOPWORDS,\n",
    "                      background_color='black',\n",
    "                      width=3000,\n",
    "                      height=2500\n",
    "                     ).generate(cleaned_word)\n",
    "plt.figure(1,figsize=(12, 12))\n",
    "plt.imshow(wordcloud)\n",
    "plt.axis('off')\n",
    "plt.show()\n"
   ]
  },
  {
   "cell_type": "markdown",
   "metadata": {},
   "source": [
    "1. **In the above word cloud there are certain words probably will not make too much sense to study the reason for negative sentiment and subsequently based on the frequency of these words we will decide if the same needs to be deleted**\n",
    "2. **Lets understand the reason for negativity for each airline:**"
   ]
  },
  {
   "cell_type": "code",
   "execution_count": 22,
   "metadata": {
    "ExecuteTime": {
     "end_time": "2020-04-18T07:20:09.424728Z",
     "start_time": "2020-04-18T07:20:08.385508Z"
    }
   },
   "outputs": [
    {
     "data": {
      "image/png": "[encoded data removed]",
      "text/plain": [
       "<Figure size 432x288 with 1 Axes>"
      ]
     },
     "metadata": {
      "needs_background": "light"
     },
     "output_type": "display_data"
    },
    {
     "data": {
      "image/png": "[encoded data removed]",
      "text/plain": [
       "<Figure size 936x936 with 6 Axes>"
      ]
     },
     "metadata": {
      "needs_background": "light"
     },
     "output_type": "display_data"
    }
   ],
   "source": [
    "Airline_tweets['negativereason'].nunique()\n",
    "\n",
    "NR_Count=dict(Airline_tweets['negativereason'].value_counts(sort=False))\n",
    "def NR_Count(Airline):\n",
    "    if Airline=='All':\n",
    "        a=Airline_tweets\n",
    "    else:\n",
    "        a=Airline_tweets[Airline_tweets['airline']==Airline]\n",
    "    count=dict(a['negativereason'].value_counts())\n",
    "    Unique_reason=list(Airline_tweets['negativereason'].unique())\n",
    "    Unique_reason=[x for x in Unique_reason if str(x) != 'nan']\n",
    "    Reason_frame=pd.DataFrame({'Reasons':Unique_reason})\n",
    "    Reason_frame['count']=Reason_frame['Reasons'].apply(lambda x: count[x])\n",
    "    return Reason_frame\n",
    "def plot_reason(Airline):\n",
    "    \n",
    "    a=NR_Count(Airline)\n",
    "    count=a['count']\n",
    "    Index = range(1,(len(a)+1))\n",
    "    plt.bar(Index,count, color=['red','yellow','blue','green','black','brown','gray','cyan','purple','orange'])\n",
    "    plt.xticks(Index,a['Reasons'],rotation=90)\n",
    "    plt.ylabel('Count')\n",
    "    plt.xlabel('Reason')\n",
    "    plt.title('Count of Reasons for '+Airline)\n",
    "    \n",
    "plot_reason('All')\n",
    "plt.figure(2,figsize=(13, 13))\n",
    "for i in airlines:\n",
    "    indices= airlines.index(i)\n",
    "    plt.subplot(2,3,indices+1)\n",
    "    plt.subplots_adjust(hspace=0.9)\n",
    "    plot_reason(i)"
   ]
  },
  {
   "cell_type": "markdown",
   "metadata": {},
   "source": [
    "1. **Customer Service Issue is the main negative reason for US Airways,United,American,Southwest,Virgin America**\n",
    "2. **Late Flight is the main negative reason for Delta.**\n",
    "3. **Interestingly, Virgin America has the least count of negative reasons (all less than 60)**\n",
    "4. **Contrastingly to Virgin America, airlines like US Airways,United,American have more than 500 negative reasons (Late flight, Customer Service Issue)**\n",
    "\n",
    "Readers are advised to perform the similar analysis for Positive and Neutral tweets as well."
   ]
  },
  {
   "cell_type": "markdown",
   "metadata": {},
   "source": [
    "## Basic Pre-Processing"
   ]
  },
  {
   "cell_type": "markdown",
   "metadata": {},
   "source": [
    "**Lower Case conversion:**"
   ]
  },
  {
   "cell_type": "code",
   "execution_count": 23,
   "metadata": {
    "ExecuteTime": {
     "end_time": "2020-04-18T07:20:09.494544Z",
     "start_time": "2020-04-18T07:20:09.428719Z"
    }
   },
   "outputs": [
    {
     "data": {
      "text/plain": [
       "0                  @virginamerica what @dhepburn said.\n",
       "1    @virginamerica plus you've added commercials t...\n",
       "2    @virginamerica i didn't today... must mean i n...\n",
       "3    @virginamerica it's really aggressive to blast...\n",
       "4    @virginamerica and it's a really big bad thing...\n",
       "Name: Tweet, dtype: object"
      ]
     },
     "execution_count": 23,
     "metadata": {},
     "output_type": "execute_result"
    }
   ],
   "source": [
    "Airline_tweets['Tweet'] = Airline_tweets['text'].apply(lambda x: \" \".join(x.lower() for x in x.split()))\n",
    "Airline_tweets['Tweet'].head()"
   ]
  },
  {
   "cell_type": "markdown",
   "metadata": {},
   "source": [
    "**Removal of Punctuation:**"
   ]
  },
  {
   "cell_type": "code",
   "execution_count": 24,
   "metadata": {
    "ExecuteTime": {
     "end_time": "2020-04-18T07:20:09.747711Z",
     "start_time": "2020-04-18T07:20:09.496537Z"
    }
   },
   "outputs": [
    {
     "data": {
      "text/plain": [
       "0                     virginamerica what dhepburn said\n",
       "1    virginamerica plus youve added commercials to ...\n",
       "2    virginamerica i didnt today must mean i need t...\n",
       "3    virginamerica its really aggressive to blast o...\n",
       "4    virginamerica and its a really big bad thing a...\n",
       "Name: Tweet, dtype: object"
      ]
     },
     "execution_count": 24,
     "metadata": {},
     "output_type": "execute_result"
    }
   ],
   "source": [
    "Airline_tweets['Tweet'] = Airline_tweets['Tweet'].str.replace('[^\\w\\s]','')\n",
    "Airline_tweets['Tweet'].head()"
   ]
  },
  {
   "cell_type": "markdown",
   "metadata": {},
   "source": [
    "**Removal of StopWords**"
   ]
  },
  {
   "cell_type": "code",
   "execution_count": 25,
   "metadata": {
    "ExecuteTime": {
     "end_time": "2020-04-18T07:20:10.215931Z",
     "start_time": "2020-04-18T07:20:09.748707Z"
    }
   },
   "outputs": [
    {
     "data": {
      "text/plain": [
       "0                          virginamerica dhepburn said\n",
       "1    virginamerica plus youve added commercials exp...\n",
       "2    virginamerica didnt today must mean need take ...\n",
       "3    virginamerica really aggressive blast obnoxiou...\n",
       "4                   virginamerica really big bad thing\n",
       "Name: Tweet, dtype: object"
      ]
     },
     "execution_count": 25,
     "metadata": {},
     "output_type": "execute_result"
    }
   ],
   "source": [
    "from nltk.corpus import stopwords\n",
    "stop = stopwords.words('english')\n",
    "Airline_tweets['Tweet'] = Airline_tweets['Tweet'].apply(lambda x: \" \".join(x for x in x.split() if x not in stop))\n",
    "Airline_tweets['Tweet'].head()"
   ]
  },
  {
   "cell_type": "markdown",
   "metadata": {},
   "source": [
    "**Common Words Removal**\n",
    "1. **We will create a list of 10 frequently occurring words and then decide if we need to remove it or retain it**\n",
    "2. **Reason is that this file has tweets related to flights.. So no point in keeping the words like name, unless we have tweets related to different category**\n",
    "3. **Name of the specific airline is not removed as we would require the name of the airline for bigram analysis**"
   ]
  },
  {
   "cell_type": "code",
   "execution_count": 26,
   "metadata": {
    "ExecuteTime": {
     "end_time": "2020-04-18T07:20:10.293723Z",
     "start_time": "2020-04-18T07:20:10.216928Z"
    }
   },
   "outputs": [
    {
     "data": {
      "text/plain": [
       "united           4143\n",
       "flight           3873\n",
       "usairways        3051\n",
       "americanair      2957\n",
       "southwestair     2452\n",
       "jetblue          2361\n",
       "get              1334\n",
       "thanks           1072\n",
       "cancelled        1056\n",
       "service           956\n",
       "help              855\n",
       "time              770\n",
       "im                764\n",
       "customer          746\n",
       "us                679\n",
       "hours             669\n",
       "flights           646\n",
       "2                 644\n",
       "amp               638\n",
       "hold              637\n",
       "plane             618\n",
       "thank             602\n",
       "cant              578\n",
       "still             568\n",
       "please            560\n",
       "one               558\n",
       "need              553\n",
       "would             548\n",
       "delayed           529\n",
       "virginamerica     521\n",
       "dtype: int64"
      ]
     },
     "execution_count": 26,
     "metadata": {},
     "output_type": "execute_result"
    }
   ],
   "source": [
    "freq = pd.Series(' '.join(Airline_tweets['Tweet']).split()).value_counts()[:30]\n",
    "freq"
   ]
  },
  {
   "cell_type": "markdown",
   "metadata": {},
   "source": [
    "**Please note that we are removing the digit 2 here. This 2 might mean \"to\" in English. However as advanced library package of NLP are not used, this would get treated as a digit and hence we are removing the same:**"
   ]
  },
  {
   "cell_type": "code",
   "execution_count": 27,
   "metadata": {
    "ExecuteTime": {
     "end_time": "2020-04-18T07:20:10.357553Z",
     "start_time": "2020-04-18T07:20:10.295718Z"
    }
   },
   "outputs": [],
   "source": [
    "freq =['flight','2']"
   ]
  },
  {
   "cell_type": "code",
   "execution_count": 28,
   "metadata": {
    "ExecuteTime": {
     "end_time": "2020-04-18T07:20:10.478065Z",
     "start_time": "2020-04-18T07:20:10.359547Z"
    }
   },
   "outputs": [
    {
     "data": {
      "text/plain": [
       "0                          virginamerica dhepburn said\n",
       "1    virginamerica plus youve added commercials exp...\n",
       "2    virginamerica didnt today must mean need take ...\n",
       "3    virginamerica really aggressive blast obnoxiou...\n",
       "4                   virginamerica really big bad thing\n",
       "Name: Tweet, dtype: object"
      ]
     },
     "execution_count": 28,
     "metadata": {},
     "output_type": "execute_result"
    }
   ],
   "source": [
    "\n",
    "Airline_tweets['Tweet'] = Airline_tweets['Tweet'].apply(lambda x: \" \".join(x for x in x.split() if x not in freq))\n",
    "Airline_tweets['Tweet'].head()"
   ]
  },
  {
   "cell_type": "markdown",
   "metadata": {},
   "source": [
    "**Rare Words Removal**\n",
    "**>This is done as association of these less occurring words with the existing words could be a noise**\n",
    "> **As it is difficult to make out if these words will have association in text analytics or not, hence to start with these words are kept in the dataset**"
   ]
  },
  {
   "cell_type": "code",
   "execution_count": 29,
   "metadata": {
    "ExecuteTime": {
     "end_time": "2020-04-18T07:20:10.567196Z",
     "start_time": "2020-04-18T07:20:10.480059Z"
    }
   },
   "outputs": [
    {
     "data": {
      "text/plain": [
       "32742                  1\n",
       "b91                    1\n",
       "inquiry                1\n",
       "httptcorx8z53m7yy      1\n",
       "ua3882                 1\n",
       "259                    1\n",
       "audience               1\n",
       "alreadyrebookedonce    1\n",
       "httpstcoiitojhuikh     1\n",
       "httptco2trgemtebz      1\n",
       "dtype: int64"
      ]
     },
     "execution_count": 29,
     "metadata": {},
     "output_type": "execute_result"
    }
   ],
   "source": [
    "freq = pd.Series(' '.join(Airline_tweets['Tweet']).split()).value_counts()[-10:]\n",
    "freq"
   ]
  },
  {
   "cell_type": "markdown",
   "metadata": {},
   "source": [
    "**Stemming -refers to the removal of suffices, like “ing”, “ly”, “s”, etc. by a simple rule-based approach**"
   ]
  },
  {
   "cell_type": "code",
   "execution_count": 30,
   "metadata": {
    "ExecuteTime": {
     "end_time": "2020-04-18T07:20:10.638007Z",
     "start_time": "2020-04-18T07:20:10.568193Z"
    }
   },
   "outputs": [
    {
     "data": {
      "text/plain": [
       "0                          virginamerica dhepburn said\n",
       "1      virginamerica plu youv ad commerci experi tacki\n",
       "2    virginamerica didnt today must mean need take ...\n",
       "3    virginamerica realli aggress blast obnoxi ente...\n",
       "4                   virginamerica realli big bad thing\n",
       "Name: Tweet, dtype: object"
      ]
     },
     "execution_count": 30,
     "metadata": {},
     "output_type": "execute_result"
    }
   ],
   "source": [
    "from nltk.stem import PorterStemmer\n",
    "st = PorterStemmer()\n",
    "Airline_tweets['Tweet'][:5].apply(lambda x: \" \".join([st.stem(word) for word in x.split()]))\n",
    "\n"
   ]
  },
  {
   "cell_type": "markdown",
   "metadata": {},
   "source": [
    "**Let's look at the overall distribution of positive, negative and neutral sentiments**"
   ]
  },
  {
   "cell_type": "code",
   "execution_count": 31,
   "metadata": {
    "ExecuteTime": {
     "end_time": "2020-04-18T07:20:10.775038Z",
     "start_time": "2020-04-18T07:20:10.639005Z"
    }
   },
   "outputs": [
    {
     "data": {
      "text/plain": [
       "<matplotlib.axes._subplots.AxesSubplot at 0x21321b0c5c8>"
      ]
     },
     "execution_count": 31,
     "metadata": {},
     "output_type": "execute_result"
    },
    {
     "data": {
      "image/png": "[encoded data removed]",
      "text/plain": [
       "<Figure size 432x288 with 1 Axes>"
      ]
     },
     "metadata": {},
     "output_type": "display_data"
    }
   ],
   "source": [
    "Airline_tweets.airline_sentiment.value_counts().plot(kind='pie', autopct='%1.0f%%', colors=[\"red\",\"yellow\",\"green\"])"
   ]
  },
  {
   "cell_type": "code",
   "execution_count": 32,
   "metadata": {
    "ExecuteTime": {
     "end_time": "2020-04-18T07:20:10.819883Z",
     "start_time": "2020-04-18T07:20:10.777000Z"
    }
   },
   "outputs": [
    {
     "name": "stdout",
     "output_type": "stream",
     "text": [
      "<class 'pandas.core.frame.DataFrame'>\n",
      "RangeIndex: 14640 entries, 0 to 14639\n",
      "Data columns (total 21 columns):\n",
      "tweet_id                        14640 non-null int64\n",
      "airline_sentiment               14640 non-null object\n",
      "airline_sentiment_confidence    14640 non-null float64\n",
      "negativereason                  9178 non-null object\n",
      "negativereason_confidence       10522 non-null float64\n",
      "airline                         14640 non-null object\n",
      "name                            14640 non-null object\n",
      "retweet_count                   14640 non-null int64\n",
      "text                            14640 non-null object\n",
      "tweet_created                   14640 non-null object\n",
      "tweet_location                  9907 non-null object\n",
      "user_timezone                   9820 non-null object\n",
      "totalwords                      14640 non-null int64\n",
      "word_count                      14640 non-null int64\n",
      "char_count                      14640 non-null int64\n",
      "avg_word                        14640 non-null float64\n",
      "stopwords                       14640 non-null int64\n",
      "hastags                         14640 non-null int64\n",
      "numerics                        14640 non-null int64\n",
      "upper                           14640 non-null int64\n",
      "Tweet                           14640 non-null object\n",
      "dtypes: float64(3), int64(9), object(9)\n",
      "memory usage: 2.3+ MB\n"
     ]
    }
   ],
   "source": [
    "Airline_tweets.info()"
   ]
  },
  {
   "cell_type": "code",
   "execution_count": 33,
   "metadata": {
    "ExecuteTime": {
     "end_time": "2020-04-18T07:20:10.890531Z",
     "start_time": "2020-04-18T07:20:10.820881Z"
    }
   },
   "outputs": [],
   "source": [
    "processed_features = Airline_tweets.iloc[:, 20].values\n",
    "labels = Airline_tweets.iloc[:, 1].values"
   ]
  },
  {
   "cell_type": "code",
   "execution_count": 34,
   "metadata": {
    "ExecuteTime": {
     "end_time": "2020-04-18T07:20:10.965332Z",
     "start_time": "2020-04-18T07:20:10.891529Z"
    }
   },
   "outputs": [
    {
     "data": {
      "text/plain": [
       "array(['virginamerica dhepburn said',\n",
       "       'virginamerica plus youve added commercials experience tacky',\n",
       "       'virginamerica didnt today must mean need take another trip', ...,\n",
       "       'americanair please bring american airlines blackberry10',\n",
       "       'americanair money change dont answer phones suggestions make commitment',\n",
       "       'americanair 8 ppl need know many seats next plz put us standby 4 people next'],\n",
       "      dtype=object)"
      ]
     },
     "execution_count": 34,
     "metadata": {},
     "output_type": "execute_result"
    }
   ],
   "source": [
    "processed_features"
   ]
  },
  {
   "cell_type": "code",
   "execution_count": 35,
   "metadata": {
    "ExecuteTime": {
     "end_time": "2020-04-18T07:20:11.037887Z",
     "start_time": "2020-04-18T07:20:10.966329Z"
    }
   },
   "outputs": [
    {
     "data": {
      "text/plain": [
       "array(['neutral', 'positive', 'neutral', ..., 'neutral', 'negative',\n",
       "       'neutral'], dtype=object)"
      ]
     },
     "execution_count": 35,
     "metadata": {},
     "output_type": "execute_result"
    }
   ],
   "source": [
    "labels"
   ]
  },
  {
   "cell_type": "code",
   "execution_count": 36,
   "metadata": {
    "ExecuteTime": {
     "end_time": "2020-04-18T07:20:11.395280Z",
     "start_time": "2020-04-18T07:20:11.038850Z"
    }
   },
   "outputs": [],
   "source": [
    "from sklearn.feature_extraction.text import TfidfVectorizer\n",
    "\n",
    "vectorizer = TfidfVectorizer (max_features=2500, min_df=7, max_df=0.8)\n",
    "processed_features = vectorizer.fit_transform(processed_features).toarray()"
   ]
  },
  {
   "cell_type": "code",
   "execution_count": 37,
   "metadata": {
    "ExecuteTime": {
     "end_time": "2020-04-18T07:20:11.401299Z",
     "start_time": "2020-04-18T07:20:11.396278Z"
    }
   },
   "outputs": [
    {
     "data": {
      "text/plain": [
       "TfidfVectorizer(analyzer='word', binary=False, decode_error='strict',\n",
       "                dtype=<class 'numpy.float64'>, encoding='utf-8',\n",
       "                input='content', lowercase=True, max_df=0.8, max_features=2500,\n",
       "                min_df=7, ngram_range=(1, 1), norm='l2', preprocessor=None,\n",
       "                smooth_idf=True, stop_words=None, strip_accents=None,\n",
       "                sublinear_tf=False, token_pattern='(?u)\\\\b\\\\w\\\\w+\\\\b',\n",
       "                tokenizer=None, use_idf=True, vocabulary=None)"
      ]
     },
     "execution_count": 37,
     "metadata": {},
     "output_type": "execute_result"
    }
   ],
   "source": [
    "vectorizer"
   ]
  },
  {
   "cell_type": "code",
   "execution_count": 38,
   "metadata": {
    "ExecuteTime": {
     "end_time": "2020-04-18T07:20:11.635471Z",
     "start_time": "2020-04-18T07:20:11.402263Z"
    }
   },
   "outputs": [],
   "source": [
    "from sklearn.model_selection import train_test_split\n",
    "\n",
    "X_train, X_test, y_train, y_test = train_test_split(processed_features, labels, test_size=0.2, random_state=0)"
   ]
  },
  {
   "cell_type": "code",
   "execution_count": 39,
   "metadata": {
    "ExecuteTime": {
     "end_time": "2020-04-18T07:20:11.642264Z",
     "start_time": "2020-04-18T07:20:11.637280Z"
    }
   },
   "outputs": [
    {
     "data": {
      "text/plain": [
       "array(['positive', 'negative', 'negative', ..., 'negative', 'negative',\n",
       "       'negative'], dtype=object)"
      ]
     },
     "execution_count": 39,
     "metadata": {},
     "output_type": "execute_result"
    }
   ],
   "source": [
    "y_train"
   ]
  },
  {
   "cell_type": "markdown",
   "metadata": {},
   "source": [
    "## Random Forest Model"
   ]
  },
  {
   "cell_type": "code",
   "execution_count": 40,
   "metadata": {
    "ExecuteTime": {
     "end_time": "2020-04-18T07:21:22.007180Z",
     "start_time": "2020-04-18T07:20:11.644267Z"
    }
   },
   "outputs": [
    {
     "data": {
      "text/plain": [
       "RandomForestClassifier(bootstrap=True, ccp_alpha=0.0, class_weight=None,\n",
       "                       criterion='gini', max_depth=None, max_features='auto',\n",
       "                       max_leaf_nodes=None, max_samples=None,\n",
       "                       min_impurity_decrease=0.0, min_impurity_split=None,\n",
       "                       min_samples_leaf=1, min_samples_split=2,\n",
       "                       min_weight_fraction_leaf=0.0, n_estimators=200,\n",
       "                       n_jobs=None, oob_score=False, random_state=0, verbose=0,\n",
       "                       warm_start=False)"
      ]
     },
     "execution_count": 40,
     "metadata": {},
     "output_type": "execute_result"
    }
   ],
   "source": [
    "from sklearn.ensemble import RandomForestClassifier\n",
    "\n",
    "RF_model = RandomForestClassifier(n_estimators=200, random_state=0)\n",
    "RF_model.fit(X_train, y_train)"
   ]
  },
  {
   "cell_type": "code",
   "execution_count": 41,
   "metadata": {
    "ExecuteTime": {
     "end_time": "2020-04-18T07:21:26.285775Z",
     "start_time": "2020-04-18T07:21:22.009175Z"
    }
   },
   "outputs": [
    {
     "name": "stdout",
     "output_type": "stream",
     "text": [
      "0.9925717213114754\n",
      "[[7279   27    2]\n",
      " [   4 2451   30]\n",
      " [   5   19 1895]]\n",
      "              precision    recall  f1-score   support\n",
      "\n",
      "    negative       1.00      1.00      1.00      7308\n",
      "     neutral       0.98      0.99      0.98      2485\n",
      "    positive       0.98      0.99      0.99      1919\n",
      "\n",
      "    accuracy                           0.99     11712\n",
      "   macro avg       0.99      0.99      0.99     11712\n",
      "weighted avg       0.99      0.99      0.99     11712\n",
      "\n"
     ]
    }
   ],
   "source": [
    "## Performance Matrix on train data set\n",
    "from sklearn import metrics\n",
    "y_train_predict = RF_model.predict(X_train)\n",
    "model_score =RF_model.score(X_train, y_train)\n",
    "print(model_score)\n",
    "print(metrics.confusion_matrix(y_train, y_train_predict))\n",
    "print(metrics.classification_report(y_train, y_train_predict))"
   ]
  },
  {
   "cell_type": "code",
   "execution_count": 42,
   "metadata": {
    "ExecuteTime": {
     "end_time": "2020-04-18T07:21:27.417744Z",
     "start_time": "2020-04-18T07:21:26.286733Z"
    }
   },
   "outputs": [
    {
     "name": "stdout",
     "output_type": "stream",
     "text": [
      "0.757172131147541\n",
      "[[1722  108   40]\n",
      " [ 318  251   45]\n",
      " [ 131   69  244]]\n",
      "              precision    recall  f1-score   support\n",
      "\n",
      "    negative       0.79      0.92      0.85      1870\n",
      "     neutral       0.59      0.41      0.48       614\n",
      "    positive       0.74      0.55      0.63       444\n",
      "\n",
      "    accuracy                           0.76      2928\n",
      "   macro avg       0.71      0.63      0.66      2928\n",
      "weighted avg       0.74      0.76      0.74      2928\n",
      "\n"
     ]
    }
   ],
   "source": [
    "## Performance Matrix on test data set\n",
    "y_test_predict = RF_model.predict(X_test)\n",
    "model_score = RF_model.score(X_test, y_test)\n",
    "print(model_score)\n",
    "print(metrics.confusion_matrix(y_test, y_test_predict))\n",
    "print(metrics.classification_report(y_test, y_test_predict))"
   ]
  },
  {
   "cell_type": "markdown",
   "metadata": {},
   "source": [
    "#### Since the Sentiment is imbalanced, and finding actual sentiment of the passennger is important,the metric to watch out for in this case can be F1 score which is nothing but the harmonic mean between precision and recall.\n",
    "#### Precision and Recall are complementary metrics that have an inverse relationship. If both are of interest to us then we use the F1 score to combine precision and recall into a single metric."
   ]
  },
  {
   "cell_type": "markdown",
   "metadata": {},
   "source": [
    "## Decision Tree Model"
   ]
  },
  {
   "cell_type": "code",
   "execution_count": 43,
   "metadata": {
    "ExecuteTime": {
     "end_time": "2020-04-18T07:22:16.135475Z",
     "start_time": "2020-04-18T07:21:27.419739Z"
    }
   },
   "outputs": [
    {
     "data": {
      "text/plain": [
       "DecisionTreeClassifier(ccp_alpha=0.0, class_weight=None, criterion='gini',\n",
       "                       max_depth=None, max_features=None, max_leaf_nodes=None,\n",
       "                       min_impurity_decrease=0.0, min_impurity_split=None,\n",
       "                       min_samples_leaf=1, min_samples_split=2,\n",
       "                       min_weight_fraction_leaf=0.0, presort='deprecated',\n",
       "                       random_state=1, splitter='best')"
      ]
     },
     "execution_count": 43,
     "metadata": {},
     "output_type": "execute_result"
    }
   ],
   "source": [
    "from sklearn import tree\n",
    "\n",
    "\n",
    "DT_model= tree.DecisionTreeClassifier(random_state=1)\n",
    "DT_model.fit(X_train, y_train)"
   ]
  },
  {
   "cell_type": "code",
   "execution_count": 44,
   "metadata": {
    "ExecuteTime": {
     "end_time": "2020-04-18T07:22:16.680019Z",
     "start_time": "2020-04-18T07:22:16.137437Z"
    }
   },
   "outputs": [
    {
     "name": "stdout",
     "output_type": "stream",
     "text": [
      "0.9925717213114754\n",
      "[[7282   26    0]\n",
      " [   6 2452   27]\n",
      " [   7   21 1891]]\n",
      "              precision    recall  f1-score   support\n",
      "\n",
      "    negative       1.00      1.00      1.00      7308\n",
      "     neutral       0.98      0.99      0.98      2485\n",
      "    positive       0.99      0.99      0.99      1919\n",
      "\n",
      "    accuracy                           0.99     11712\n",
      "   macro avg       0.99      0.99      0.99     11712\n",
      "weighted avg       0.99      0.99      0.99     11712\n",
      "\n"
     ]
    }
   ],
   "source": [
    "## Performance Matrix on train data set\n",
    "y_train_predict = DT_model.predict(X_train)\n",
    "model_score = DT_model.score(X_train, y_train)\n",
    "print(model_score)\n",
    "print(metrics.confusion_matrix(y_train, y_train_predict))\n",
    "print(metrics.classification_report(y_train, y_train_predict))"
   ]
  },
  {
   "cell_type": "code",
   "execution_count": 45,
   "metadata": {
    "ExecuteTime": {
     "end_time": "2020-04-18T07:22:16.818613Z",
     "start_time": "2020-04-18T07:22:16.680982Z"
    }
   },
   "outputs": [
    {
     "name": "stdout",
     "output_type": "stream",
     "text": [
      "0.6673497267759563\n",
      "[[1445  300  125]\n",
      " [ 277  272   65]\n",
      " [ 117   90  237]]\n",
      "              precision    recall  f1-score   support\n",
      "\n",
      "    negative       0.79      0.77      0.78      1870\n",
      "     neutral       0.41      0.44      0.43       614\n",
      "    positive       0.56      0.53      0.54       444\n",
      "\n",
      "    accuracy                           0.67      2928\n",
      "   macro avg       0.58      0.58      0.58      2928\n",
      "weighted avg       0.67      0.67      0.67      2928\n",
      "\n"
     ]
    }
   ],
   "source": [
    "## Performance Matrix on test data set\n",
    "y_test_predict = DT_model.predict(X_test)\n",
    "model_score = DT_model.score(X_test, y_test)\n",
    "print(model_score)\n",
    "print(metrics.confusion_matrix(y_test, y_test_predict))\n",
    "print(metrics.classification_report(y_test, y_test_predict))"
   ]
  },
  {
   "cell_type": "markdown",
   "metadata": {},
   "source": [
    "## Discriminant Analysis"
   ]
  },
  {
   "cell_type": "code",
   "execution_count": 46,
   "metadata": {
    "ExecuteTime": {
     "end_time": "2020-04-18T07:22:33.249732Z",
     "start_time": "2020-04-18T07:22:16.819611Z"
    }
   },
   "outputs": [
    {
     "data": {
      "text/plain": [
       "LinearDiscriminantAnalysis(n_components=None, priors=None, shrinkage=None,\n",
       "                           solver='svd', store_covariance=False, tol=0.0001)"
      ]
     },
     "execution_count": 46,
     "metadata": {},
     "output_type": "execute_result"
    }
   ],
   "source": [
    "from sklearn.discriminant_analysis import LinearDiscriminantAnalysis\n",
    "LDA_model= LinearDiscriminantAnalysis()\n",
    "LDA_model.fit(X_train, y_train)"
   ]
  },
  {
   "cell_type": "code",
   "execution_count": 47,
   "metadata": {
    "ExecuteTime": {
     "end_time": "2020-04-18T07:22:33.698533Z",
     "start_time": "2020-04-18T07:22:33.251727Z"
    }
   },
   "outputs": [
    {
     "name": "stdout",
     "output_type": "stream",
     "text": [
      "0.8734631147540983\n",
      "[[6846  360  102]\n",
      " [ 490 1860  135]\n",
      " [ 216  179 1524]]\n",
      "              precision    recall  f1-score   support\n",
      "\n",
      "    negative       0.91      0.94      0.92      7308\n",
      "     neutral       0.78      0.75      0.76      2485\n",
      "    positive       0.87      0.79      0.83      1919\n",
      "\n",
      "    accuracy                           0.87     11712\n",
      "   macro avg       0.85      0.83      0.84     11712\n",
      "weighted avg       0.87      0.87      0.87     11712\n",
      "\n"
     ]
    }
   ],
   "source": [
    "## Performance Matrix on train data set\n",
    "y_train_predict = LDA_model.predict(X_train)\n",
    "model_score = LDA_model.score(X_train, y_train)\n",
    "print(model_score)\n",
    "print(metrics.confusion_matrix(y_train, y_train_predict))\n",
    "print(metrics.classification_report(y_train, y_train_predict))"
   ]
  },
  {
   "cell_type": "code",
   "execution_count": 48,
   "metadata": {
    "ExecuteTime": {
     "end_time": "2020-04-18T07:22:33.795274Z",
     "start_time": "2020-04-18T07:22:33.699529Z"
    }
   },
   "outputs": [
    {
     "name": "stdout",
     "output_type": "stream",
     "text": [
      "0.7581967213114754\n",
      "[[1604  209   57]\n",
      " [ 215  342   57]\n",
      " [ 100   70  274]]\n",
      "              precision    recall  f1-score   support\n",
      "\n",
      "    negative       0.84      0.86      0.85      1870\n",
      "     neutral       0.55      0.56      0.55       614\n",
      "    positive       0.71      0.62      0.66       444\n",
      "\n",
      "    accuracy                           0.76      2928\n",
      "   macro avg       0.70      0.68      0.69      2928\n",
      "weighted avg       0.76      0.76      0.76      2928\n",
      "\n"
     ]
    }
   ],
   "source": [
    "## Performance Matrix on test data set\n",
    "y_test_predict = LDA_model.predict(X_test)\n",
    "model_score = LDA_model.score(X_test, y_test)\n",
    "print(model_score)\n",
    "print(metrics.confusion_matrix(y_test, y_test_predict))\n",
    "print(metrics.classification_report(y_test, y_test_predict))"
   ]
  },
  {
   "cell_type": "markdown",
   "metadata": {},
   "source": [
    "**Out of the 3 models given above, considering the different between train and test dataset performance parameters, LDA has performed the best.**"
   ]
  },
  {
   "cell_type": "markdown",
   "metadata": {},
   "source": [
    "## Let's Recreate model with only 2 classes where positive and neutral tweets are merged and treated as non-negative\n"
   ]
  },
  {
   "cell_type": "code",
   "execution_count": 49,
   "metadata": {
    "ExecuteTime": {
     "end_time": "2020-04-18T07:22:33.800260Z",
     "start_time": "2020-04-18T07:22:33.796270Z"
    }
   },
   "outputs": [],
   "source": [
    "def Tweet(x):\n",
    "    if x == \"positive\":\n",
    "        return \"Non-Negative\"\n",
    "    elif x == 'neutral':\n",
    "        return \"Non-Negative\"\n",
    "    else: return \"Negative\"\n"
   ]
  },
  {
   "cell_type": "code",
   "execution_count": 50,
   "metadata": {
    "ExecuteTime": {
     "end_time": "2020-04-18T07:22:33.903983Z",
     "start_time": "2020-04-18T07:22:33.802255Z"
    }
   },
   "outputs": [
    {
     "data": {
      "text/html": [
       "<div>\n",
       "<style scoped>\n",
       "    .dataframe tbody tr th:only-of-type {\n",
       "        vertical-align: middle;\n",
       "    }\n",
       "\n",
       "    .dataframe tbody tr th {\n",
       "        vertical-align: top;\n",
       "    }\n",
       "\n",
       "    .dataframe thead th {\n",
       "        text-align: right;\n",
       "    }\n",
       "</style>\n",
       "<table border=\"1\" class=\"dataframe\">\n",
       "  <thead>\n",
       "    <tr style=\"text-align: right;\">\n",
       "      <th></th>\n",
       "      <th>tweet_id</th>\n",
       "      <th>airline_sentiment</th>\n",
       "      <th>airline_sentiment_confidence</th>\n",
       "      <th>negativereason</th>\n",
       "      <th>negativereason_confidence</th>\n",
       "      <th>airline</th>\n",
       "      <th>name</th>\n",
       "      <th>retweet_count</th>\n",
       "      <th>text</th>\n",
       "      <th>tweet_created</th>\n",
       "      <th>...</th>\n",
       "      <th>totalwords</th>\n",
       "      <th>word_count</th>\n",
       "      <th>char_count</th>\n",
       "      <th>avg_word</th>\n",
       "      <th>stopwords</th>\n",
       "      <th>hastags</th>\n",
       "      <th>numerics</th>\n",
       "      <th>upper</th>\n",
       "      <th>Tweet</th>\n",
       "      <th>M-Sentiment</th>\n",
       "    </tr>\n",
       "  </thead>\n",
       "  <tbody>\n",
       "    <tr>\n",
       "      <td>0</td>\n",
       "      <td>570306133677760513</td>\n",
       "      <td>neutral</td>\n",
       "      <td>1.0000</td>\n",
       "      <td>NaN</td>\n",
       "      <td>NaN</td>\n",
       "      <td>Virgin America</td>\n",
       "      <td>cairdin</td>\n",
       "      <td>0</td>\n",
       "      <td>@VirginAmerica What @dhepburn said.</td>\n",
       "      <td>2015-02-24 11:35:52 -0800</td>\n",
       "      <td>...</td>\n",
       "      <td>4</td>\n",
       "      <td>4</td>\n",
       "      <td>35</td>\n",
       "      <td>8.000000</td>\n",
       "      <td>0</td>\n",
       "      <td>2</td>\n",
       "      <td>0</td>\n",
       "      <td>0</td>\n",
       "      <td>virginamerica dhepburn said</td>\n",
       "      <td>Non-Negative</td>\n",
       "    </tr>\n",
       "    <tr>\n",
       "      <td>1</td>\n",
       "      <td>570301130888122368</td>\n",
       "      <td>positive</td>\n",
       "      <td>0.3486</td>\n",
       "      <td>NaN</td>\n",
       "      <td>0.0000</td>\n",
       "      <td>Virgin America</td>\n",
       "      <td>jnardino</td>\n",
       "      <td>0</td>\n",
       "      <td>@VirginAmerica plus you've added commercials t...</td>\n",
       "      <td>2015-02-24 11:15:59 -0800</td>\n",
       "      <td>...</td>\n",
       "      <td>9</td>\n",
       "      <td>9</td>\n",
       "      <td>72</td>\n",
       "      <td>7.111111</td>\n",
       "      <td>3</td>\n",
       "      <td>1</td>\n",
       "      <td>0</td>\n",
       "      <td>0</td>\n",
       "      <td>virginamerica plus youve added commercials exp...</td>\n",
       "      <td>Non-Negative</td>\n",
       "    </tr>\n",
       "    <tr>\n",
       "      <td>2</td>\n",
       "      <td>570301083672813571</td>\n",
       "      <td>neutral</td>\n",
       "      <td>0.6837</td>\n",
       "      <td>NaN</td>\n",
       "      <td>NaN</td>\n",
       "      <td>Virgin America</td>\n",
       "      <td>yvonnalynn</td>\n",
       "      <td>0</td>\n",
       "      <td>@VirginAmerica I didn't today... Must mean I n...</td>\n",
       "      <td>2015-02-24 11:15:48 -0800</td>\n",
       "      <td>...</td>\n",
       "      <td>12</td>\n",
       "      <td>12</td>\n",
       "      <td>71</td>\n",
       "      <td>5.000000</td>\n",
       "      <td>2</td>\n",
       "      <td>1</td>\n",
       "      <td>0</td>\n",
       "      <td>2</td>\n",
       "      <td>virginamerica didnt today must mean need take ...</td>\n",
       "      <td>Non-Negative</td>\n",
       "    </tr>\n",
       "    <tr>\n",
       "      <td>3</td>\n",
       "      <td>570301031407624196</td>\n",
       "      <td>negative</td>\n",
       "      <td>1.0000</td>\n",
       "      <td>Bad Flight</td>\n",
       "      <td>0.7033</td>\n",
       "      <td>Virgin America</td>\n",
       "      <td>jnardino</td>\n",
       "      <td>0</td>\n",
       "      <td>@VirginAmerica it's really aggressive to blast...</td>\n",
       "      <td>2015-02-24 11:15:36 -0800</td>\n",
       "      <td>...</td>\n",
       "      <td>17</td>\n",
       "      <td>17</td>\n",
       "      <td>126</td>\n",
       "      <td>6.470588</td>\n",
       "      <td>6</td>\n",
       "      <td>1</td>\n",
       "      <td>0</td>\n",
       "      <td>0</td>\n",
       "      <td>virginamerica really aggressive blast obnoxiou...</td>\n",
       "      <td>Negative</td>\n",
       "    </tr>\n",
       "    <tr>\n",
       "      <td>4</td>\n",
       "      <td>570300817074462722</td>\n",
       "      <td>negative</td>\n",
       "      <td>1.0000</td>\n",
       "      <td>Can't Tell</td>\n",
       "      <td>1.0000</td>\n",
       "      <td>Virgin America</td>\n",
       "      <td>jnardino</td>\n",
       "      <td>0</td>\n",
       "      <td>@VirginAmerica and it's a really big bad thing...</td>\n",
       "      <td>2015-02-24 11:14:45 -0800</td>\n",
       "      <td>...</td>\n",
       "      <td>10</td>\n",
       "      <td>10</td>\n",
       "      <td>55</td>\n",
       "      <td>4.600000</td>\n",
       "      <td>5</td>\n",
       "      <td>1</td>\n",
       "      <td>0</td>\n",
       "      <td>0</td>\n",
       "      <td>virginamerica really big bad thing</td>\n",
       "      <td>Negative</td>\n",
       "    </tr>\n",
       "  </tbody>\n",
       "</table>\n",
       "<p>5 rows × 22 columns</p>\n",
       "</div>"
      ],
      "text/plain": [
       "             tweet_id airline_sentiment  airline_sentiment_confidence  \\\n",
       "0  570306133677760513           neutral                        1.0000   \n",
       "1  570301130888122368          positive                        0.3486   \n",
       "2  570301083672813571           neutral                        0.6837   \n",
       "3  570301031407624196          negative                        1.0000   \n",
       "4  570300817074462722          negative                        1.0000   \n",
       "\n",
       "  negativereason  negativereason_confidence         airline        name  \\\n",
       "0            NaN                        NaN  Virgin America     cairdin   \n",
       "1            NaN                     0.0000  Virgin America    jnardino   \n",
       "2            NaN                        NaN  Virgin America  yvonnalynn   \n",
       "3     Bad Flight                     0.7033  Virgin America    jnardino   \n",
       "4     Can't Tell                     1.0000  Virgin America    jnardino   \n",
       "\n",
       "   retweet_count                                               text  \\\n",
       "0              0                @VirginAmerica What @dhepburn said.   \n",
       "1              0  @VirginAmerica plus you've added commercials t...   \n",
       "2              0  @VirginAmerica I didn't today... Must mean I n...   \n",
       "3              0  @VirginAmerica it's really aggressive to blast...   \n",
       "4              0  @VirginAmerica and it's a really big bad thing...   \n",
       "\n",
       "               tweet_created  ... totalwords word_count  char_count  avg_word  \\\n",
       "0  2015-02-24 11:35:52 -0800  ...          4          4          35  8.000000   \n",
       "1  2015-02-24 11:15:59 -0800  ...          9          9          72  7.111111   \n",
       "2  2015-02-24 11:15:48 -0800  ...         12         12          71  5.000000   \n",
       "3  2015-02-24 11:15:36 -0800  ...         17         17         126  6.470588   \n",
       "4  2015-02-24 11:14:45 -0800  ...         10         10          55  4.600000   \n",
       "\n",
       "   stopwords  hastags  numerics  upper  \\\n",
       "0          0        2         0      0   \n",
       "1          3        1         0      0   \n",
       "2          2        1         0      2   \n",
       "3          6        1         0      0   \n",
       "4          5        1         0      0   \n",
       "\n",
       "                                               Tweet   M-Sentiment  \n",
       "0                        virginamerica dhepburn said  Non-Negative  \n",
       "1  virginamerica plus youve added commercials exp...  Non-Negative  \n",
       "2  virginamerica didnt today must mean need take ...  Non-Negative  \n",
       "3  virginamerica really aggressive blast obnoxiou...      Negative  \n",
       "4                 virginamerica really big bad thing      Negative  \n",
       "\n",
       "[5 rows x 22 columns]"
      ]
     },
     "execution_count": 50,
     "metadata": {},
     "output_type": "execute_result"
    }
   ],
   "source": [
    "Airline_tweets[\"M-Sentiment\"] = Airline_tweets[\"airline_sentiment\"].apply(Tweet)\n",
    "\n",
    "Airline_tweets.head()"
   ]
  },
  {
   "cell_type": "markdown",
   "metadata": {},
   "source": [
    "**Recheck the levels of the newly created field**"
   ]
  },
  {
   "cell_type": "code",
   "execution_count": 51,
   "metadata": {
    "ExecuteTime": {
     "end_time": "2020-04-18T07:22:33.971802Z",
     "start_time": "2020-04-18T07:22:33.905977Z"
    }
   },
   "outputs": [
    {
     "data": {
      "text/plain": [
       "Negative        9178\n",
       "Non-Negative    5462\n",
       "Name: M-Sentiment, dtype: int64"
      ]
     },
     "execution_count": 51,
     "metadata": {},
     "output_type": "execute_result"
    }
   ],
   "source": [
    "Airline_tweets[\"M-Sentiment\"].value_counts()"
   ]
  },
  {
   "cell_type": "code",
   "execution_count": 52,
   "metadata": {
    "ExecuteTime": {
     "end_time": "2020-04-18T07:22:34.103867Z",
     "start_time": "2020-04-18T07:22:33.972798Z"
    }
   },
   "outputs": [
    {
     "name": "stdout",
     "output_type": "stream",
     "text": [
      "<class 'pandas.core.frame.DataFrame'>\n",
      "RangeIndex: 14640 entries, 0 to 14639\n",
      "Data columns (total 22 columns):\n",
      "tweet_id                        14640 non-null int64\n",
      "airline_sentiment               14640 non-null object\n",
      "airline_sentiment_confidence    14640 non-null float64\n",
      "negativereason                  9178 non-null object\n",
      "negativereason_confidence       10522 non-null float64\n",
      "airline                         14640 non-null object\n",
      "name                            14640 non-null object\n",
      "retweet_count                   14640 non-null int64\n",
      "text                            14640 non-null object\n",
      "tweet_created                   14640 non-null object\n",
      "tweet_location                  9907 non-null object\n",
      "user_timezone                   9820 non-null object\n",
      "totalwords                      14640 non-null int64\n",
      "word_count                      14640 non-null int64\n",
      "char_count                      14640 non-null int64\n",
      "avg_word                        14640 non-null float64\n",
      "stopwords                       14640 non-null int64\n",
      "hastags                         14640 non-null int64\n",
      "numerics                        14640 non-null int64\n",
      "upper                           14640 non-null int64\n",
      "Tweet                           14640 non-null object\n",
      "M-Sentiment                     14640 non-null object\n",
      "dtypes: float64(3), int64(9), object(10)\n",
      "memory usage: 2.5+ MB\n"
     ]
    }
   ],
   "source": [
    "Airline_tweets.info()"
   ]
  },
  {
   "cell_type": "code",
   "execution_count": 53,
   "metadata": {
    "ExecuteTime": {
     "end_time": "2020-04-18T07:22:34.283144Z",
     "start_time": "2020-04-18T07:22:34.106863Z"
    }
   },
   "outputs": [],
   "source": [
    "processed_features = Airline_tweets.iloc[:, 20].values\n",
    "labels = Airline_tweets.iloc[:, 21].values"
   ]
  },
  {
   "cell_type": "code",
   "execution_count": 54,
   "metadata": {
    "ExecuteTime": {
     "end_time": "2020-04-18T07:22:34.393388Z",
     "start_time": "2020-04-18T07:22:34.285100Z"
    }
   },
   "outputs": [
    {
     "data": {
      "text/plain": [
       "array(['virginamerica dhepburn said',\n",
       "       'virginamerica plus youve added commercials experience tacky',\n",
       "       'virginamerica didnt today must mean need take another trip', ...,\n",
       "       'americanair please bring american airlines blackberry10',\n",
       "       'americanair money change dont answer phones suggestions make commitment',\n",
       "       'americanair 8 ppl need know many seats next plz put us standby 4 people next'],\n",
       "      dtype=object)"
      ]
     },
     "execution_count": 54,
     "metadata": {},
     "output_type": "execute_result"
    }
   ],
   "source": [
    "processed_features"
   ]
  },
  {
   "cell_type": "code",
   "execution_count": 55,
   "metadata": {
    "ExecuteTime": {
     "end_time": "2020-04-18T07:22:34.514700Z",
     "start_time": "2020-04-18T07:22:34.394386Z"
    }
   },
   "outputs": [
    {
     "data": {
      "text/plain": [
       "array(['Non-Negative', 'Non-Negative', 'Non-Negative', ...,\n",
       "       'Non-Negative', 'Negative', 'Non-Negative'], dtype=object)"
      ]
     },
     "execution_count": 55,
     "metadata": {},
     "output_type": "execute_result"
    }
   ],
   "source": [
    "labels"
   ]
  },
  {
   "cell_type": "code",
   "execution_count": 56,
   "metadata": {
    "ExecuteTime": {
     "end_time": "2020-04-18T07:22:34.846540Z",
     "start_time": "2020-04-18T07:22:34.518645Z"
    }
   },
   "outputs": [],
   "source": [
    "from sklearn.feature_extraction.text import TfidfVectorizer\n",
    "\n",
    "vectorizer = TfidfVectorizer (max_features=2500, min_df=7, max_df=0.8)\n",
    "processed_features = vectorizer.fit_transform(processed_features).toarray()"
   ]
  },
  {
   "cell_type": "code",
   "execution_count": 57,
   "metadata": {
    "ExecuteTime": {
     "end_time": "2020-04-18T07:22:34.852486Z",
     "start_time": "2020-04-18T07:22:34.847467Z"
    }
   },
   "outputs": [
    {
     "data": {
      "text/plain": [
       "TfidfVectorizer(analyzer='word', binary=False, decode_error='strict',\n",
       "                dtype=<class 'numpy.float64'>, encoding='utf-8',\n",
       "                input='content', lowercase=True, max_df=0.8, max_features=2500,\n",
       "                min_df=7, ngram_range=(1, 1), norm='l2', preprocessor=None,\n",
       "                smooth_idf=True, stop_words=None, strip_accents=None,\n",
       "                sublinear_tf=False, token_pattern='(?u)\\\\b\\\\w\\\\w+\\\\b',\n",
       "                tokenizer=None, use_idf=True, vocabulary=None)"
      ]
     },
     "execution_count": 57,
     "metadata": {},
     "output_type": "execute_result"
    }
   ],
   "source": [
    "vectorizer"
   ]
  },
  {
   "cell_type": "code",
   "execution_count": 58,
   "metadata": {
    "ExecuteTime": {
     "end_time": "2020-04-18T07:22:35.119183Z",
     "start_time": "2020-04-18T07:22:34.853451Z"
    }
   },
   "outputs": [],
   "source": [
    "from sklearn.model_selection import train_test_split\n",
    "\n",
    "X_train, X_test, y_train, y_test = train_test_split(processed_features, labels, test_size=0.2, random_state=0)"
   ]
  },
  {
   "cell_type": "code",
   "execution_count": 59,
   "metadata": {
    "ExecuteTime": {
     "end_time": "2020-04-18T07:22:35.126125Z",
     "start_time": "2020-04-18T07:22:35.120141Z"
    }
   },
   "outputs": [
    {
     "data": {
      "text/plain": [
       "array([[0., 0., 0., ..., 0., 0., 0.],\n",
       "       [0., 0., 0., ..., 0., 0., 0.],\n",
       "       [0., 0., 0., ..., 0., 0., 0.],\n",
       "       ...,\n",
       "       [0., 0., 0., ..., 0., 0., 0.],\n",
       "       [0., 0., 0., ..., 0., 0., 0.],\n",
       "       [0., 0., 0., ..., 0., 0., 0.]])"
      ]
     },
     "execution_count": 59,
     "metadata": {},
     "output_type": "execute_result"
    }
   ],
   "source": [
    "X_train"
   ]
  },
  {
   "cell_type": "code",
   "execution_count": 60,
   "metadata": {
    "ExecuteTime": {
     "end_time": "2020-04-18T07:22:35.210747Z",
     "start_time": "2020-04-18T07:22:35.127123Z"
    }
   },
   "outputs": [
    {
     "data": {
      "text/plain": [
       "array(['Non-Negative', 'Negative', 'Negative', ..., 'Negative',\n",
       "       'Negative', 'Negative'], dtype=object)"
      ]
     },
     "execution_count": 60,
     "metadata": {},
     "output_type": "execute_result"
    }
   ],
   "source": [
    "y_train"
   ]
  },
  {
   "cell_type": "markdown",
   "metadata": {},
   "source": [
    "## Random Forest Model as Binary Classifier"
   ]
  },
  {
   "cell_type": "code",
   "execution_count": 61,
   "metadata": {
    "ExecuteTime": {
     "end_time": "2020-04-18T07:23:38.843629Z",
     "start_time": "2020-04-18T07:22:35.215758Z"
    }
   },
   "outputs": [
    {
     "data": {
      "text/plain": [
       "RandomForestClassifier(bootstrap=True, ccp_alpha=0.0, class_weight=None,\n",
       "                       criterion='gini', max_depth=None, max_features='auto',\n",
       "                       max_leaf_nodes=None, max_samples=None,\n",
       "                       min_impurity_decrease=0.0, min_impurity_split=None,\n",
       "                       min_samples_leaf=1, min_samples_split=2,\n",
       "                       min_weight_fraction_leaf=0.0, n_estimators=200,\n",
       "                       n_jobs=None, oob_score=False, random_state=0, verbose=0,\n",
       "                       warm_start=False)"
      ]
     },
     "execution_count": 61,
     "metadata": {},
     "output_type": "execute_result"
    }
   ],
   "source": [
    "from sklearn.ensemble import RandomForestClassifier\n",
    "\n",
    "RF_model = RandomForestClassifier(n_estimators=200, random_state=0)\n",
    "RF_model.fit(X_train, y_train)"
   ]
  },
  {
   "cell_type": "code",
   "execution_count": 62,
   "metadata": {
    "ExecuteTime": {
     "end_time": "2020-04-18T07:23:43.167667Z",
     "start_time": "2020-04-18T07:23:38.845591Z"
    }
   },
   "outputs": [
    {
     "name": "stdout",
     "output_type": "stream",
     "text": [
      "0.9967554644808743\n",
      "[[7279   29]\n",
      " [   9 4395]]\n",
      "              precision    recall  f1-score   support\n",
      "\n",
      "    Negative       1.00      1.00      1.00      7308\n",
      "Non-Negative       0.99      1.00      1.00      4404\n",
      "\n",
      "    accuracy                           1.00     11712\n",
      "   macro avg       1.00      1.00      1.00     11712\n",
      "weighted avg       1.00      1.00      1.00     11712\n",
      "\n"
     ]
    }
   ],
   "source": [
    "## Performance Matrix on train data set\n",
    "from sklearn import metrics\n",
    "y_train_predict = RF_model.predict(X_train)\n",
    "model_score =RF_model.score(X_train, y_train)\n",
    "print(model_score)\n",
    "print(metrics.confusion_matrix(y_train, y_train_predict))\n",
    "print(metrics.classification_report(y_train, y_train_predict))"
   ]
  },
  {
   "cell_type": "code",
   "execution_count": 63,
   "metadata": {
    "ExecuteTime": {
     "end_time": "2020-04-18T07:23:44.267905Z",
     "start_time": "2020-04-18T07:23:43.168664Z"
    }
   },
   "outputs": [
    {
     "name": "stdout",
     "output_type": "stream",
     "text": [
      "0.7995218579234973\n",
      "[[1643  227]\n",
      " [ 360  698]]\n",
      "              precision    recall  f1-score   support\n",
      "\n",
      "    Negative       0.82      0.88      0.85      1870\n",
      "Non-Negative       0.75      0.66      0.70      1058\n",
      "\n",
      "    accuracy                           0.80      2928\n",
      "   macro avg       0.79      0.77      0.78      2928\n",
      "weighted avg       0.80      0.80      0.80      2928\n",
      "\n"
     ]
    }
   ],
   "source": [
    "## Performance Matrix on test data set\n",
    "y_test_predict = RF_model.predict(X_test)\n",
    "model_score = RF_model.score(X_test, y_test)\n",
    "print(model_score)\n",
    "print(metrics.confusion_matrix(y_test, y_test_predict))\n",
    "print(metrics.classification_report(y_test, y_test_predict))"
   ]
  },
  {
   "cell_type": "markdown",
   "metadata": {},
   "source": [
    "#### We will consider Recall as model evaluation metric to measure the performance of the model. As it can help the airline to target customers who have a negative opinion on the airlines to convert them into non negative. As the main goal here will be to reduce the type-2 error in our model. \n",
    "#### for e.g. Consider a passenger who has given a negative feedback but out model predicted non-negative, This can be unacceptable."
   ]
  },
  {
   "cell_type": "markdown",
   "metadata": {},
   "source": [
    "**Results are better than 3 levels random forest classification, however difference between train and test score is still large.\n",
    "Let's see if hyperparamter tuning can improve the result**"
   ]
  },
  {
   "cell_type": "markdown",
   "metadata": {},
   "source": [
    "**Grid Search for finding the optimal number of parameters:**"
   ]
  },
  {
   "cell_type": "code",
   "execution_count": 64,
   "metadata": {
    "ExecuteTime": {
     "end_time": "2020-04-18T07:23:44.273889Z",
     "start_time": "2020-04-18T07:23:44.268904Z"
    }
   },
   "outputs": [],
   "source": [
    "from sklearn.model_selection import GridSearchCV\n",
    "\n",
    "param_grid = {\n",
    "    'max_depth': [7],\n",
    "    'max_features': [8],\n",
    "    'min_samples_leaf': [5,10],\n",
    "    'min_samples_split': [50,100],\n",
    "    'n_estimators': [100]\n",
    "}\n",
    "\n",
    "rfcl = RandomForestClassifier()\n",
    "\n",
    "grid_search = GridSearchCV(estimator = rfcl, param_grid = param_grid, cv = 3)"
   ]
  },
  {
   "cell_type": "code",
   "execution_count": 65,
   "metadata": {
    "ExecuteTime": {
     "end_time": "2020-04-18T07:23:55.533753Z",
     "start_time": "2020-04-18T07:23:44.274887Z"
    }
   },
   "outputs": [
    {
     "data": {
      "text/plain": [
       "GridSearchCV(cv=3, error_score=nan,\n",
       "             estimator=RandomForestClassifier(bootstrap=True, ccp_alpha=0.0,\n",
       "                                              class_weight=None,\n",
       "                                              criterion='gini', max_depth=None,\n",
       "                                              max_features='auto',\n",
       "                                              max_leaf_nodes=None,\n",
       "                                              max_samples=None,\n",
       "                                              min_impurity_decrease=0.0,\n",
       "                                              min_impurity_split=None,\n",
       "                                              min_samples_leaf=1,\n",
       "                                              min_samples_split=2,\n",
       "                                              min_weight_fraction_leaf=0.0,\n",
       "                                              n_estimators=100, n_jobs=None,\n",
       "                                              oob_score=False,\n",
       "                                              random_state=None, verbose=0,\n",
       "                                              warm_start=False),\n",
       "             iid='deprecated', n_jobs=None,\n",
       "             param_grid={'max_depth': [7], 'max_features': [8],\n",
       "                         'min_samples_leaf': [5, 10],\n",
       "                         'min_samples_split': [50, 100],\n",
       "                         'n_estimators': [100]},\n",
       "             pre_dispatch='2*n_jobs', refit=True, return_train_score=False,\n",
       "             scoring=None, verbose=0)"
      ]
     },
     "execution_count": 65,
     "metadata": {},
     "output_type": "execute_result"
    }
   ],
   "source": [
    "grid_search.fit(X_train, y_train)"
   ]
  },
  {
   "cell_type": "code",
   "execution_count": 66,
   "metadata": {
    "ExecuteTime": {
     "end_time": "2020-04-18T07:23:55.539737Z",
     "start_time": "2020-04-18T07:23:55.534752Z"
    }
   },
   "outputs": [
    {
     "data": {
      "text/plain": [
       "{'max_depth': 7,\n",
       " 'max_features': 8,\n",
       " 'min_samples_leaf': 5,\n",
       " 'min_samples_split': 50,\n",
       " 'n_estimators': 100}"
      ]
     },
     "execution_count": 66,
     "metadata": {},
     "output_type": "execute_result"
    }
   ],
   "source": [
    "grid_search.best_params_"
   ]
  },
  {
   "cell_type": "code",
   "execution_count": 67,
   "metadata": {
    "ExecuteTime": {
     "end_time": "2020-04-18T07:23:55.729303Z",
     "start_time": "2020-04-18T07:23:55.540736Z"
    }
   },
   "outputs": [],
   "source": [
    "best_grid = grid_search.best_estimator_"
   ]
  },
  {
   "cell_type": "code",
   "execution_count": 68,
   "metadata": {
    "ExecuteTime": {
     "end_time": "2020-04-18T07:23:55.871627Z",
     "start_time": "2020-04-18T07:23:55.740312Z"
    }
   },
   "outputs": [
    {
     "data": {
      "text/plain": [
       "RandomForestClassifier(bootstrap=True, ccp_alpha=0.0, class_weight=None,\n",
       "                       criterion='gini', max_depth=7, max_features=8,\n",
       "                       max_leaf_nodes=None, max_samples=None,\n",
       "                       min_impurity_decrease=0.0, min_impurity_split=None,\n",
       "                       min_samples_leaf=5, min_samples_split=50,\n",
       "                       min_weight_fraction_leaf=0.0, n_estimators=100,\n",
       "                       n_jobs=None, oob_score=False, random_state=None,\n",
       "                       verbose=0, warm_start=False)"
      ]
     },
     "execution_count": 68,
     "metadata": {},
     "output_type": "execute_result"
    }
   ],
   "source": [
    "best_grid"
   ]
  },
  {
   "cell_type": "code",
   "execution_count": 69,
   "metadata": {
    "ExecuteTime": {
     "end_time": "2020-04-18T07:24:00.278824Z",
     "start_time": "2020-04-18T07:23:55.878571Z"
    }
   },
   "outputs": [
    {
     "name": "stdout",
     "output_type": "stream",
     "text": [
      "0.9967554644808743\n",
      "[[7279   29]\n",
      " [   9 4395]]\n",
      "              precision    recall  f1-score   support\n",
      "\n",
      "    Negative       1.00      1.00      1.00      7308\n",
      "Non-Negative       0.99      1.00      1.00      4404\n",
      "\n",
      "    accuracy                           1.00     11712\n",
      "   macro avg       1.00      1.00      1.00     11712\n",
      "weighted avg       1.00      1.00      1.00     11712\n",
      "\n"
     ]
    }
   ],
   "source": [
    "## Performance Matrix on train data set\n",
    "y_train_predict = RF_model.predict(X_train)\n",
    "model_score =RF_model.score(X_train, y_train)\n",
    "print(model_score)\n",
    "print(metrics.confusion_matrix(y_train, y_train_predict))\n",
    "print(metrics.classification_report(y_train, y_train_predict))"
   ]
  },
  {
   "cell_type": "code",
   "execution_count": 70,
   "metadata": {
    "ExecuteTime": {
     "end_time": "2020-04-18T07:24:01.379878Z",
     "start_time": "2020-04-18T07:24:00.279784Z"
    }
   },
   "outputs": [
    {
     "name": "stdout",
     "output_type": "stream",
     "text": [
      "0.7995218579234973\n",
      "[[1643  227]\n",
      " [ 360  698]]\n",
      "              precision    recall  f1-score   support\n",
      "\n",
      "    Negative       0.82      0.88      0.85      1870\n",
      "Non-Negative       0.75      0.66      0.70      1058\n",
      "\n",
      "    accuracy                           0.80      2928\n",
      "   macro avg       0.79      0.77      0.78      2928\n",
      "weighted avg       0.80      0.80      0.80      2928\n",
      "\n"
     ]
    }
   ],
   "source": [
    "## Performance Matrix on test data set\n",
    "y_test_predict = RF_model.predict(X_test)\n",
    "model_score = RF_model.score(X_test, y_test)\n",
    "print(model_score)\n",
    "print(metrics.confusion_matrix(y_test, y_test_predict))\n",
    "print(metrics.classification_report(y_test, y_test_predict))"
   ]
  },
  {
   "cell_type": "markdown",
   "metadata": {},
   "source": [
    "No improvement in the result"
   ]
  },
  {
   "cell_type": "markdown",
   "metadata": {},
   "source": [
    "## Decision Tree with Binary classification"
   ]
  },
  {
   "cell_type": "code",
   "execution_count": 71,
   "metadata": {
    "ExecuteTime": {
     "end_time": "2020-04-18T07:24:44.340963Z",
     "start_time": "2020-04-18T07:24:01.380869Z"
    }
   },
   "outputs": [
    {
     "data": {
      "text/plain": [
       "DecisionTreeClassifier(ccp_alpha=0.0, class_weight=None, criterion='gini',\n",
       "                       max_depth=None, max_features=None, max_leaf_nodes=None,\n",
       "                       min_impurity_decrease=0.0, min_impurity_split=None,\n",
       "                       min_samples_leaf=1, min_samples_split=2,\n",
       "                       min_weight_fraction_leaf=0.0, presort='deprecated',\n",
       "                       random_state=1, splitter='best')"
      ]
     },
     "execution_count": 71,
     "metadata": {},
     "output_type": "execute_result"
    }
   ],
   "source": [
    "from sklearn import tree\n",
    "\n",
    "\n",
    "DT_model= tree.DecisionTreeClassifier( random_state=1)\n",
    "DT_model.fit(X_train, y_train)"
   ]
  },
  {
   "cell_type": "code",
   "execution_count": 72,
   "metadata": {
    "ExecuteTime": {
     "end_time": "2020-04-18T07:24:45.052029Z",
     "start_time": "2020-04-18T07:24:44.342925Z"
    }
   },
   "outputs": [
    {
     "name": "stdout",
     "output_type": "stream",
     "text": [
      "0.9967554644808743\n",
      "[[7281   27]\n",
      " [  11 4393]]\n",
      "              precision    recall  f1-score   support\n",
      "\n",
      "    Negative       1.00      1.00      1.00      7308\n",
      "Non-Negative       0.99      1.00      1.00      4404\n",
      "\n",
      "    accuracy                           1.00     11712\n",
      "   macro avg       1.00      1.00      1.00     11712\n",
      "weighted avg       1.00      1.00      1.00     11712\n",
      "\n"
     ]
    }
   ],
   "source": [
    "## Performance Matrix on train data set\n",
    "y_train_predict = DT_model.predict(X_train)\n",
    "model_score = DT_model.score(X_train, y_train)\n",
    "print(model_score)\n",
    "print(metrics.confusion_matrix(y_train, y_train_predict))\n",
    "print(metrics.classification_report(y_train, y_train_predict))"
   ]
  },
  {
   "cell_type": "code",
   "execution_count": 73,
   "metadata": {
    "ExecuteTime": {
     "end_time": "2020-04-18T07:24:45.228555Z",
     "start_time": "2020-04-18T07:24:45.053026Z"
    }
   },
   "outputs": [
    {
     "name": "stdout",
     "output_type": "stream",
     "text": [
      "0.7137978142076503\n",
      "[[1387  483]\n",
      " [ 355  703]]\n",
      "              precision    recall  f1-score   support\n",
      "\n",
      "    Negative       0.80      0.74      0.77      1870\n",
      "Non-Negative       0.59      0.66      0.63      1058\n",
      "\n",
      "    accuracy                           0.71      2928\n",
      "   macro avg       0.69      0.70      0.70      2928\n",
      "weighted avg       0.72      0.71      0.72      2928\n",
      "\n"
     ]
    }
   ],
   "source": [
    "## Performance Matrix on test data set\n",
    "y_test_predict = DT_model.predict(X_test)\n",
    "model_score = DT_model.score(X_test, y_test)\n",
    "print(model_score)\n",
    "print(metrics.confusion_matrix(y_test, y_test_predict))\n",
    "print(metrics.classification_report(y_test, y_test_predict))"
   ]
  },
  {
   "cell_type": "markdown",
   "metadata": {
    "ExecuteTime": {
     "end_time": "2020-04-18T07:11:45.812327Z",
     "start_time": "2020-04-18T07:11:45.808338Z"
    }
   },
   "source": [
    "**Random Forest results were better than the output from decision tree on the test data set**"
   ]
  },
  {
   "cell_type": "markdown",
   "metadata": {},
   "source": [
    "**Let's regularize the tree to find out if this will perform better:**"
   ]
  },
  {
   "cell_type": "code",
   "execution_count": 74,
   "metadata": {
    "ExecuteTime": {
     "end_time": "2020-04-18T07:24:48.633449Z",
     "start_time": "2020-04-18T07:24:45.229555Z"
    }
   },
   "outputs": [
    {
     "data": {
      "text/plain": [
       "DecisionTreeClassifier(ccp_alpha=0.0, class_weight=None, criterion='gini',\n",
       "                       max_depth=8, max_features=None, max_leaf_nodes=None,\n",
       "                       min_impurity_decrease=0.0, min_impurity_split=None,\n",
       "                       min_samples_leaf=10, min_samples_split=30,\n",
       "                       min_weight_fraction_leaf=0.0, presort='deprecated',\n",
       "                       random_state=None, splitter='best')"
      ]
     },
     "execution_count": 74,
     "metadata": {},
     "output_type": "execute_result"
    }
   ],
   "source": [
    "reg_DT_model = tree.DecisionTreeClassifier(criterion = 'gini', max_depth = 8,min_samples_leaf=10,min_samples_split=30)\n",
    "reg_DT_model.fit(X_train, y_train)\n"
   ]
  },
  {
   "cell_type": "code",
   "execution_count": 75,
   "metadata": {
    "ExecuteTime": {
     "end_time": "2020-04-18T07:24:49.262794Z",
     "start_time": "2020-04-18T07:24:48.635445Z"
    }
   },
   "outputs": [
    {
     "name": "stdout",
     "output_type": "stream",
     "text": [
      "0.7482069672131147\n",
      "[[6603  705]\n",
      " [2244 2160]]\n",
      "              precision    recall  f1-score   support\n",
      "\n",
      "    Negative       0.75      0.90      0.82      7308\n",
      "Non-Negative       0.75      0.49      0.59      4404\n",
      "\n",
      "    accuracy                           0.75     11712\n",
      "   macro avg       0.75      0.70      0.71     11712\n",
      "weighted avg       0.75      0.75      0.73     11712\n",
      "\n"
     ]
    }
   ],
   "source": [
    "## Performance Matrix on train data set\n",
    "y_train_predict = reg_DT_model.predict(X_train)\n",
    "model_score = reg_DT_model.score(X_train, y_train)\n",
    "print(model_score)\n",
    "print(metrics.confusion_matrix(y_train, y_train_predict))\n",
    "print(metrics.classification_report(y_train, y_train_predict))"
   ]
  },
  {
   "cell_type": "code",
   "execution_count": 76,
   "metadata": {
    "ExecuteTime": {
     "end_time": "2020-04-18T07:24:49.410371Z",
     "start_time": "2020-04-18T07:24:49.264760Z"
    }
   },
   "outputs": [
    {
     "name": "stdout",
     "output_type": "stream",
     "text": [
      "0.7288251366120219\n",
      "[[1648  222]\n",
      " [ 572  486]]\n",
      "              precision    recall  f1-score   support\n",
      "\n",
      "    Negative       0.74      0.88      0.81      1870\n",
      "Non-Negative       0.69      0.46      0.55      1058\n",
      "\n",
      "    accuracy                           0.73      2928\n",
      "   macro avg       0.71      0.67      0.68      2928\n",
      "weighted avg       0.72      0.73      0.71      2928\n",
      "\n"
     ]
    }
   ],
   "source": [
    "## Performance Matrix on test data set\n",
    "y_test_predict = reg_DT_model.predict(X_test)\n",
    "model_score = reg_DT_model.score(X_test, y_test)\n",
    "print(model_score)\n",
    "print(metrics.confusion_matrix(y_test, y_test_predict))\n",
    "print(metrics.classification_report(y_test, y_test_predict))"
   ]
  },
  {
   "cell_type": "markdown",
   "metadata": {},
   "source": [
    "**On a Regularized Tree, Non-Negative recall is not good, hence for comparison we will consider the model which was built without regularization**"
   ]
  },
  {
   "cell_type": "markdown",
   "metadata": {},
   "source": [
    "## Discriminant Analysis with Binary Classifier"
   ]
  },
  {
   "cell_type": "code",
   "execution_count": 77,
   "metadata": {
    "ExecuteTime": {
     "end_time": "2020-04-18T07:25:07.792541Z",
     "start_time": "2020-04-18T07:24:49.411369Z"
    }
   },
   "outputs": [
    {
     "data": {
      "text/plain": [
       "LinearDiscriminantAnalysis(n_components=None, priors=None, shrinkage=None,\n",
       "                           solver='svd', store_covariance=False, tol=0.0001)"
      ]
     },
     "execution_count": 77,
     "metadata": {},
     "output_type": "execute_result"
    }
   ],
   "source": [
    "from sklearn.discriminant_analysis import LinearDiscriminantAnalysis\n",
    "LDA_model= LinearDiscriminantAnalysis()\n",
    "LDA_model.fit(X_train, y_train)"
   ]
  },
  {
   "cell_type": "code",
   "execution_count": 78,
   "metadata": {
    "ExecuteTime": {
     "end_time": "2020-04-18T07:25:08.541569Z",
     "start_time": "2020-04-18T07:25:07.796530Z"
    }
   },
   "outputs": [
    {
     "name": "stdout",
     "output_type": "stream",
     "text": [
      "0.8981386612021858\n",
      "[[6797  511]\n",
      " [ 682 3722]]\n",
      "              precision    recall  f1-score   support\n",
      "\n",
      "    Negative       0.91      0.93      0.92      7308\n",
      "Non-Negative       0.88      0.85      0.86      4404\n",
      "\n",
      "    accuracy                           0.90     11712\n",
      "   macro avg       0.89      0.89      0.89     11712\n",
      "weighted avg       0.90      0.90      0.90     11712\n",
      "\n"
     ]
    }
   ],
   "source": [
    "## Performance Matrix on train data set\n",
    "y_train_predict = LDA_model.predict(X_train)\n",
    "model_score = LDA_model.score(X_train, y_train)\n",
    "print(model_score)\n",
    "print(metrics.confusion_matrix(y_train, y_train_predict))\n",
    "print(metrics.classification_report(y_train, y_train_predict))"
   ]
  },
  {
   "cell_type": "code",
   "execution_count": 79,
   "metadata": {
    "ExecuteTime": {
     "end_time": "2020-04-18T07:25:08.732027Z",
     "start_time": "2020-04-18T07:25:08.543564Z"
    }
   },
   "outputs": [
    {
     "name": "stdout",
     "output_type": "stream",
     "text": [
      "0.8032786885245902\n",
      "[[1590  280]\n",
      " [ 296  762]]\n",
      "              precision    recall  f1-score   support\n",
      "\n",
      "    Negative       0.84      0.85      0.85      1870\n",
      "Non-Negative       0.73      0.72      0.73      1058\n",
      "\n",
      "    accuracy                           0.80      2928\n",
      "   macro avg       0.79      0.79      0.79      2928\n",
      "weighted avg       0.80      0.80      0.80      2928\n",
      "\n"
     ]
    }
   ],
   "source": [
    "## Performance Matrix on test data set\n",
    "y_test_predict = LDA_model.predict(X_test)\n",
    "model_score = LDA_model.score(X_test, y_test)\n",
    "print(model_score)\n",
    "print(metrics.confusion_matrix(y_test, y_test_predict))\n",
    "print(metrics.classification_report(y_test, y_test_predict))"
   ]
  },
  {
   "cell_type": "markdown",
   "metadata": {},
   "source": [
    "1. **Linear Discriminant model has performed the best even without any hyperparameter tuning for both the classes**\n",
    "2. **Test and Train performance is within the accepted limited of +/- 10%**"
   ]
  },
  {
   "cell_type": "markdown",
   "metadata": {},
   "source": [
    "## Conclusion"
   ]
  },
  {
   "cell_type": "markdown",
   "metadata": {},
   "source": [
    "Out of the 3 models given above, considering the difference between train and test dataset performance parameters, LDA has performed the best.(for both 3 classes and binary classification)\n",
    "\n",
    "In terms of sentiments, based on the organisation objective, either positive, negative or neutral metrics could be analysed to define the marketing strategy e.g. based on negative sentiments key words organisation can decide on what they should concertrate for improvement.\n"
   ]
  },
  {
   "cell_type": "markdown",
   "metadata": {},
   "source": [
    "**One important observation**\n",
    "\n",
    "> **Its not necessary that parameter tuning will always result in a better model. As we have observed in Random Forest when Grid Search was used there was no improvement in the recall value of both the classes.and in case of Decision Tree, recall for non-negative has gone down , post regularization. Sometimes, hyper parameter tuning might result in overfitting of models also.**"
   ]
  },
  {
   "cell_type": "code",
   "execution_count": null,
   "metadata": {},
   "outputs": [],
   "source": []
  }
 ],
 "metadata": {
  "kernelspec": {
   "display_name": "Python 3",
   "language": "python",
   "name": "python3"
  },
  "language_info": {
   "codemirror_mode": {
    "name": "ipython",
    "version": 3
   },
   "file_extension": ".py",
   "mimetype": "text/x-python",
   "name": "python",
   "nbconvert_exporter": "python",
   "pygments_lexer": "ipython3",
   "version": "3.8.8"
  },
  "toc": {
   "base_numbering": 1,
   "nav_menu": {},
   "number_sections": true,
   "sideBar": true,
   "skip_h1_title": false,
   "title_cell": "Table of Contents",
   "title_sidebar": "Contents",
   "toc_cell": false,
   "toc_position": {},
   "toc_section_display": true,
   "toc_window_display": false
  },
  "varInspector": {
   "cols": {
    "lenName": 16,
    "lenType": 16,
    "lenVar": 40
   },
   "kernels_config": {
    "python": {
     "delete_cmd_postfix": "",
     "delete_cmd_prefix": "del ",
     "library": "var_list.py",
     "varRefreshCmd": "print(var_dic_list())"
    },
    "r": {
     "delete_cmd_postfix": ") ",
     "delete_cmd_prefix": "rm(",
     "library": "var_list.r",
     "varRefreshCmd": "cat(var_dic_list()) "
    }
   },
   "types_to_exclude": [
    "module",
    "function",
    "builtin_function_or_method",
    "instance",
    "_Feature"
   ],
   "window_display": false
  }
 },
 "nbformat": 4,
 "nbformat_minor": 2
}
