{
 "cells": [
  {
   "cell_type": "markdown",
   "metadata": {},
   "source": [
    "# Word Embedings with Python"
   ]
  },
  {
   "cell_type": "markdown",
   "metadata": {},
   "source": [
    "## Import and read data"
   ]
  },
  {
   "cell_type": "code",
   "execution_count": 2,
   "metadata": {},
   "outputs": [],
   "source": [
    "import numpy as np\n",
    "import pandas as pd\n",
    "import nltk\n",
    "import random\n",
    "import string\n",
    "\n",
    "from nltk.corpus import movie_reviews\n",
    "\n",
    "#pip install gensim\n",
    "from gensim.models import Word2Vec"
   ]
  },
  {
   "cell_type": "code",
   "execution_count": 4,
   "metadata": {},
   "outputs": [
    {
     "name": "stderr",
     "output_type": "stream",
     "text": [
      "[nltk_data] Downloading package movie_reviews to\n",
      "[nltk_data]     C:\\Users\\thilaky\\AppData\\Roaming\\nltk_data...\n",
      "[nltk_data]   Unzipping corpora\\movie_reviews.zip.\n"
     ]
    },
    {
     "data": {
      "text/plain": [
       "True"
      ]
     },
     "execution_count": 4,
     "metadata": {},
     "output_type": "execute_result"
    }
   ],
   "source": [
    "nltk.download('movie_reviews')"
   ]
  },
  {
   "cell_type": "markdown",
   "metadata": {},
   "source": [
    "## Building your own word embeddings"
   ]
  },
  {
   "cell_type": "markdown",
   "metadata": {},
   "source": [
    "We will build our own word emmeding vectors using the movie reviews corpus"
   ]
  },
  {
   "cell_type": "code",
   "execution_count": 5,
   "metadata": {},
   "outputs": [],
   "source": [
    "reviews=Word2Vec(movie_reviews.sents())"
   ]
  },
  {
   "cell_type": "code",
   "execution_count": 6,
   "metadata": {},
   "outputs": [
    {
     "data": {
      "text/plain": [
       "array([-1.1620406 ,  0.7829738 ,  0.35106918,  0.46414933,  0.886122  ,\n",
       "       -0.32946014, -0.3683402 , -0.1544915 , -0.73423535,  0.29544935,\n",
       "        1.2784555 ,  0.73580766,  1.0602107 ,  0.8823271 , -0.5537663 ,\n",
       "       -0.17577793,  0.5407039 , -0.12206075, -0.7059591 , -0.38938007,\n",
       "       -0.12701425, -0.6762095 , -0.11038547, -1.3677516 ,  0.9298087 ,\n",
       "       -0.2310725 , -1.002983  , -0.10194759,  0.08097055,  0.5357966 ,\n",
       "       -0.28422993, -0.41903973,  1.0704851 , -0.54130185,  0.5007394 ,\n",
       "        0.20395374, -0.98052645, -0.32933998,  0.6204523 , -0.17447315,\n",
       "       -0.6193453 ,  0.80702895, -1.0596741 ,  0.10293186,  0.6149197 ,\n",
       "        0.06034726, -0.02675194,  0.56513566, -1.0031188 , -0.3801215 ,\n",
       "        0.6990265 ,  0.09385885, -1.3491571 ,  0.05065166,  0.20349936,\n",
       "        0.33531842,  0.8986233 ,  1.847624  ,  1.2637117 ,  1.1545638 ,\n",
       "       -0.9333237 , -0.07023679, -0.03698467, -0.1602355 ,  0.72795075,\n",
       "        0.51835835,  1.1840317 ,  0.35736537, -0.40572327,  0.891327  ,\n",
       "       -0.9257833 ,  0.49175742,  0.6496304 , -0.45658243,  0.30933464,\n",
       "        0.6942471 , -0.3130877 ,  0.14664578, -1.6981514 ,  0.89277464,\n",
       "       -1.7682288 ,  1.0989755 ,  0.37252304,  0.5914031 , -1.3187532 ,\n",
       "        0.5288028 ,  1.12941   ,  0.5157482 ,  0.43503478,  0.33895373,\n",
       "        0.8354797 ,  0.5883934 , -0.6212326 ,  0.26587683, -0.24175481,\n",
       "        0.6198915 , -0.03592304, -0.22407047,  1.6063815 , -0.33833113],\n",
       "      dtype=float32)"
      ]
     },
     "execution_count": 6,
     "metadata": {},
     "output_type": "execute_result"
    }
   ],
   "source": [
    "reviews.wv['great']"
   ]
  },
  {
   "cell_type": "code",
   "execution_count": 7,
   "metadata": {},
   "outputs": [
    {
     "data": {
      "text/plain": [
       "-0.03011933"
      ]
     },
     "execution_count": 7,
     "metadata": {},
     "output_type": "execute_result"
    }
   ],
   "source": [
    "reviews.wv.similarity('great','table')"
   ]
  },
  {
   "cell_type": "code",
   "execution_count": 8,
   "metadata": {},
   "outputs": [
    {
     "data": {
      "text/plain": [
       "[('wonderful', 0.8194438219070435),\n",
       " ('nice', 0.7982600331306458),\n",
       " ('decent', 0.7861208915710449),\n",
       " ('good', 0.7791368365287781),\n",
       " ('simple', 0.7340737581253052)]"
      ]
     },
     "execution_count": 8,
     "metadata": {},
     "output_type": "execute_result"
    }
   ],
   "source": [
    "reviews.wv.most_similar('great',topn=5)"
   ]
  },
  {
   "cell_type": "code",
   "execution_count": 9,
   "metadata": {},
   "outputs": [
    {
     "data": {
      "text/plain": [
       "[('father', 0.9591573476791382),\n",
       " ('wife', 0.9513125419616699),\n",
       " ('son', 0.9507889151573181),\n",
       " ('daughter', 0.9450962543487549),\n",
       " ('sister', 0.9376797080039978)]"
      ]
     },
     "execution_count": 9,
     "metadata": {},
     "output_type": "execute_result"
    }
   ],
   "source": [
    "reviews.wv.most_similar('mother',topn=5)"
   ]
  },
  {
   "cell_type": "code",
   "execution_count": 10,
   "metadata": {},
   "outputs": [],
   "source": [
    "reviews.wv.save_word2vec_format('model.txt', binary=False)"
   ]
  },
  {
   "cell_type": "markdown",
   "metadata": {},
   "source": [
    "## Loading Google's GoogleNews Embedding Vectors"
   ]
  },
  {
   "cell_type": "markdown",
   "metadata": {},
   "source": [
    "Download the binary file ‘GoogleNews-vectors-negative300.bin’ (1.5 GB compressed) from https://s3.amazonaws.com/dl4j-distribution/GoogleNews-vectors-negative300.bin.gz.\n"
   ]
  },
  {
   "cell_type": "code",
   "execution_count": 11,
   "metadata": {},
   "outputs": [],
   "source": [
    "from gensim.models import KeyedVectors"
   ]
  },
  {
   "cell_type": "code",
   "execution_count": null,
   "metadata": {},
   "outputs": [],
   "source": [
    "gNews = KeyedVectors.load_word2vec_format('GoogleNews-vectors-negative300.bin', binary=True)"
   ]
  },
  {
   "cell_type": "code",
   "execution_count": 63,
   "metadata": {},
   "outputs": [
    {
     "data": {
      "text/plain": [
       "(300,)"
      ]
     },
     "execution_count": 63,
     "metadata": {},
     "output_type": "execute_result"
    }
   ],
   "source": [
    "gNews['great'].shape"
   ]
  },
  {
   "cell_type": "code",
   "execution_count": 64,
   "metadata": {},
   "outputs": [
    {
     "data": {
      "text/plain": [
       "[('terrific', 0.798933207988739),\n",
       " ('fantastic', 0.7935211658477783),\n",
       " ('tremendous', 0.7748855948448181),\n",
       " ('wonderful', 0.7647868394851685),\n",
       " ('good', 0.7291510105133057)]"
      ]
     },
     "execution_count": 64,
     "metadata": {},
     "output_type": "execute_result"
    }
   ],
   "source": [
    "gNews.most_similar('great',topn=5)"
   ]
  },
  {
   "cell_type": "code",
   "execution_count": 71,
   "metadata": {},
   "outputs": [
    {
     "data": {
      "text/plain": [
       "0.39287648"
      ]
     },
     "execution_count": 71,
     "metadata": {},
     "output_type": "execute_result"
    }
   ],
   "source": [
    "gNews.similarity('great','bad')"
   ]
  },
  {
   "cell_type": "code",
   "execution_count": 72,
   "metadata": {},
   "outputs": [
    {
     "data": {
      "text/plain": [
       "[('daughter', 0.8706234097480774),\n",
       " ('grandmother', 0.8442241549491882),\n",
       " ('aunt', 0.843592643737793),\n",
       " ('niece', 0.807008683681488),\n",
       " ('father', 0.7901483178138733)]"
      ]
     },
     "execution_count": 72,
     "metadata": {},
     "output_type": "execute_result"
    }
   ],
   "source": [
    "gNews.most_similar('mother',topn=5)"
   ]
  },
  {
   "cell_type": "code",
   "execution_count": 74,
   "metadata": {},
   "outputs": [
    {
     "data": {
      "text/plain": [
       "[('queen', 0.7118192911148071)]"
      ]
     },
     "execution_count": 74,
     "metadata": {},
     "output_type": "execute_result"
    }
   ],
   "source": [
    "# man:woman as king:???\n",
    "# queen = king - man + woman\n",
    "\n",
    "gNews.most_similar(positive = ['king','woman'] , negative = ['man'],topn=1)"
   ]
  },
  {
   "cell_type": "code",
   "execution_count": null,
   "metadata": {},
   "outputs": [],
   "source": []
  }
 ],
 "metadata": {
  "kernelspec": {
   "display_name": "Python 3",
   "language": "python",
   "name": "python3"
  },
  "language_info": {
   "codemirror_mode": {
    "name": "ipython",
    "version": 3
   },
   "file_extension": ".py",
   "mimetype": "text/x-python",
   "name": "python",
   "nbconvert_exporter": "python",
   "pygments_lexer": "ipython3",
   "version": "3.8.8"
  }
 },
 "nbformat": 4,
 "nbformat_minor": 1
}
